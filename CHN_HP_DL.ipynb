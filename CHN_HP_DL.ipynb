{
 "cells": [
  {
   "cell_type": "code",
   "execution_count": 1,
   "metadata": {},
   "outputs": [],
   "source": [
    "import pandas as pd\n",
    "import numpy as np\n",
    "import os"
   ]
  },
  {
   "cell_type": "code",
   "execution_count": 2,
   "metadata": {},
   "outputs": [],
   "source": [
    "SEED = 2\n",
    "os.environ['PYTHONHASHSEED']=str(SEED)\n",
    "np.random.seed(SEED)"
   ]
  },
  {
   "cell_type": "code",
   "execution_count": 3,
   "metadata": {},
   "outputs": [
    {
     "data": {
      "text/html": [
       "<div>\n",
       "<style scoped>\n",
       "    .dataframe tbody tr th:only-of-type {\n",
       "        vertical-align: middle;\n",
       "    }\n",
       "\n",
       "    .dataframe tbody tr th {\n",
       "        vertical-align: top;\n",
       "    }\n",
       "\n",
       "    .dataframe thead th {\n",
       "        text-align: right;\n",
       "    }\n",
       "</style>\n",
       "<table border=\"1\" class=\"dataframe\">\n",
       "  <thead>\n",
       "    <tr style=\"text-align: right;\">\n",
       "      <th></th>\n",
       "      <th>PRT_ID</th>\n",
       "      <th>AREA</th>\n",
       "      <th>INT_SQFT</th>\n",
       "      <th>DATE_SALE</th>\n",
       "      <th>DIST_MAINROAD</th>\n",
       "      <th>N_BEDROOM</th>\n",
       "      <th>N_BATHROOM</th>\n",
       "      <th>N_ROOM</th>\n",
       "      <th>SALE_COND</th>\n",
       "      <th>PARK_FACIL</th>\n",
       "      <th>...</th>\n",
       "      <th>UTILITY_AVAIL</th>\n",
       "      <th>STREET</th>\n",
       "      <th>MZZONE</th>\n",
       "      <th>QS_ROOMS</th>\n",
       "      <th>QS_BATHROOM</th>\n",
       "      <th>QS_BEDROOM</th>\n",
       "      <th>QS_OVERALL</th>\n",
       "      <th>REG_FEE</th>\n",
       "      <th>COMMIS</th>\n",
       "      <th>SALES_PRICE</th>\n",
       "    </tr>\n",
       "  </thead>\n",
       "  <tbody>\n",
       "    <tr>\n",
       "      <th>0</th>\n",
       "      <td>P03210</td>\n",
       "      <td>Karapakkam</td>\n",
       "      <td>1004</td>\n",
       "      <td>04-05-2011</td>\n",
       "      <td>131</td>\n",
       "      <td>1.0</td>\n",
       "      <td>1.0</td>\n",
       "      <td>3</td>\n",
       "      <td>AbNormal</td>\n",
       "      <td>Yes</td>\n",
       "      <td>...</td>\n",
       "      <td>AllPub</td>\n",
       "      <td>Paved</td>\n",
       "      <td>A</td>\n",
       "      <td>4.0</td>\n",
       "      <td>3.9</td>\n",
       "      <td>4.9</td>\n",
       "      <td>4.330</td>\n",
       "      <td>380000</td>\n",
       "      <td>144400</td>\n",
       "      <td>7600000</td>\n",
       "    </tr>\n",
       "    <tr>\n",
       "      <th>1</th>\n",
       "      <td>P09411</td>\n",
       "      <td>Anna Nagar</td>\n",
       "      <td>1986</td>\n",
       "      <td>19-12-2006</td>\n",
       "      <td>26</td>\n",
       "      <td>2.0</td>\n",
       "      <td>1.0</td>\n",
       "      <td>5</td>\n",
       "      <td>AbNormal</td>\n",
       "      <td>No</td>\n",
       "      <td>...</td>\n",
       "      <td>AllPub</td>\n",
       "      <td>Gravel</td>\n",
       "      <td>RH</td>\n",
       "      <td>4.9</td>\n",
       "      <td>4.2</td>\n",
       "      <td>2.5</td>\n",
       "      <td>3.765</td>\n",
       "      <td>760122</td>\n",
       "      <td>304049</td>\n",
       "      <td>21717770</td>\n",
       "    </tr>\n",
       "    <tr>\n",
       "      <th>2</th>\n",
       "      <td>P01812</td>\n",
       "      <td>Adyar</td>\n",
       "      <td>909</td>\n",
       "      <td>04-02-2012</td>\n",
       "      <td>70</td>\n",
       "      <td>1.0</td>\n",
       "      <td>1.0</td>\n",
       "      <td>3</td>\n",
       "      <td>AbNormal</td>\n",
       "      <td>Yes</td>\n",
       "      <td>...</td>\n",
       "      <td>ELO</td>\n",
       "      <td>Gravel</td>\n",
       "      <td>RL</td>\n",
       "      <td>4.1</td>\n",
       "      <td>3.8</td>\n",
       "      <td>2.2</td>\n",
       "      <td>3.090</td>\n",
       "      <td>421094</td>\n",
       "      <td>92114</td>\n",
       "      <td>13159200</td>\n",
       "    </tr>\n",
       "    <tr>\n",
       "      <th>3</th>\n",
       "      <td>P05346</td>\n",
       "      <td>Velachery</td>\n",
       "      <td>1855</td>\n",
       "      <td>13-03-2010</td>\n",
       "      <td>14</td>\n",
       "      <td>3.0</td>\n",
       "      <td>2.0</td>\n",
       "      <td>5</td>\n",
       "      <td>Family</td>\n",
       "      <td>No</td>\n",
       "      <td>...</td>\n",
       "      <td>NoSewr</td>\n",
       "      <td>Paved</td>\n",
       "      <td>I</td>\n",
       "      <td>4.7</td>\n",
       "      <td>3.9</td>\n",
       "      <td>3.6</td>\n",
       "      <td>4.010</td>\n",
       "      <td>356321</td>\n",
       "      <td>77042</td>\n",
       "      <td>9630290</td>\n",
       "    </tr>\n",
       "    <tr>\n",
       "      <th>4</th>\n",
       "      <td>P06210</td>\n",
       "      <td>Karapakkam</td>\n",
       "      <td>1226</td>\n",
       "      <td>05-10-2009</td>\n",
       "      <td>84</td>\n",
       "      <td>1.0</td>\n",
       "      <td>1.0</td>\n",
       "      <td>3</td>\n",
       "      <td>AbNormal</td>\n",
       "      <td>Yes</td>\n",
       "      <td>...</td>\n",
       "      <td>AllPub</td>\n",
       "      <td>Gravel</td>\n",
       "      <td>C</td>\n",
       "      <td>3.0</td>\n",
       "      <td>2.5</td>\n",
       "      <td>4.1</td>\n",
       "      <td>3.290</td>\n",
       "      <td>237000</td>\n",
       "      <td>74063</td>\n",
       "      <td>7406250</td>\n",
       "    </tr>\n",
       "  </tbody>\n",
       "</table>\n",
       "<p>5 rows × 22 columns</p>\n",
       "</div>"
      ],
      "text/plain": [
       "   PRT_ID        AREA  INT_SQFT   DATE_SALE  DIST_MAINROAD  N_BEDROOM  \\\n",
       "0  P03210  Karapakkam      1004  04-05-2011            131        1.0   \n",
       "1  P09411  Anna Nagar      1986  19-12-2006             26        2.0   \n",
       "2  P01812       Adyar       909  04-02-2012             70        1.0   \n",
       "3  P05346   Velachery      1855  13-03-2010             14        3.0   \n",
       "4  P06210  Karapakkam      1226  05-10-2009             84        1.0   \n",
       "\n",
       "   N_BATHROOM  N_ROOM SALE_COND PARK_FACIL  ... UTILITY_AVAIL  STREET MZZONE  \\\n",
       "0         1.0       3  AbNormal        Yes  ...        AllPub   Paved      A   \n",
       "1         1.0       5  AbNormal         No  ...        AllPub  Gravel     RH   \n",
       "2         1.0       3  AbNormal        Yes  ...           ELO  Gravel     RL   \n",
       "3         2.0       5    Family         No  ...       NoSewr    Paved      I   \n",
       "4         1.0       3  AbNormal        Yes  ...        AllPub  Gravel      C   \n",
       "\n",
       "  QS_ROOMS QS_BATHROOM  QS_BEDROOM  QS_OVERALL  REG_FEE  COMMIS  SALES_PRICE  \n",
       "0      4.0         3.9         4.9       4.330   380000  144400      7600000  \n",
       "1      4.9         4.2         2.5       3.765   760122  304049     21717770  \n",
       "2      4.1         3.8         2.2       3.090   421094   92114     13159200  \n",
       "3      4.7         3.9         3.6       4.010   356321   77042      9630290  \n",
       "4      3.0         2.5         4.1       3.290   237000   74063      7406250  \n",
       "\n",
       "[5 rows x 22 columns]"
      ]
     },
     "execution_count": 3,
     "metadata": {},
     "output_type": "execute_result"
    }
   ],
   "source": [
    "df = pd.read_csv(\"Chennai houseing sale.csv\")\n",
    "df.head()"
   ]
  },
  {
   "cell_type": "code",
   "execution_count": 4,
   "metadata": {},
   "outputs": [
    {
     "name": "stdout",
     "output_type": "stream",
     "text": [
      "<class 'pandas.core.frame.DataFrame'>\n",
      "RangeIndex: 7109 entries, 0 to 7108\n",
      "Data columns (total 22 columns):\n",
      " #   Column         Non-Null Count  Dtype  \n",
      "---  ------         --------------  -----  \n",
      " 0   PRT_ID         7109 non-null   object \n",
      " 1   AREA           7109 non-null   object \n",
      " 2   INT_SQFT       7109 non-null   int64  \n",
      " 3   DATE_SALE      7109 non-null   object \n",
      " 4   DIST_MAINROAD  7109 non-null   int64  \n",
      " 5   N_BEDROOM      7108 non-null   float64\n",
      " 6   N_BATHROOM     7104 non-null   float64\n",
      " 7   N_ROOM         7109 non-null   int64  \n",
      " 8   SALE_COND      7109 non-null   object \n",
      " 9   PARK_FACIL     7109 non-null   object \n",
      " 10  DATE_BUILD     7109 non-null   object \n",
      " 11  BUILDTYPE      7109 non-null   object \n",
      " 12  UTILITY_AVAIL  7109 non-null   object \n",
      " 13  STREET         7109 non-null   object \n",
      " 14  MZZONE         7109 non-null   object \n",
      " 15  QS_ROOMS       7109 non-null   float64\n",
      " 16  QS_BATHROOM    7109 non-null   float64\n",
      " 17  QS_BEDROOM     7109 non-null   float64\n",
      " 18  QS_OVERALL     7061 non-null   float64\n",
      " 19  REG_FEE        7109 non-null   int64  \n",
      " 20  COMMIS         7109 non-null   int64  \n",
      " 21  SALES_PRICE    7109 non-null   int64  \n",
      "dtypes: float64(6), int64(6), object(10)\n",
      "memory usage: 1.2+ MB\n"
     ]
    }
   ],
   "source": [
    "df.info()"
   ]
  },
  {
   "cell_type": "markdown",
   "metadata": {},
   "source": [
    "| Column Name | Description |\n",
    "| ----------- | ----------- |\n",
    "| PRT_ID | ID of House |\n",
    "| AREA           | In which area house is located in Chennai |\n",
    "| INT_SQFT       | Area in sqft |\n",
    "| DATE_SALE      | When house was sold |\n",
    "| DIST_MAINROAD  | Distance of house from main road |\n",
    "| N_BEDROOM      | Number of Bedrooms |\n",
    "| N_BATHROOM     | Number of Bathrooms |\n",
    "| N_ROOM         | Number of Rooms |\n",
    "| SALE_COND      | Sale condition |\n",
    "| PARK_FACIL     | Is parking available or not |\n",
    "| DATE_BUILD     | Date house was built |\n",
    "| BUILDTYPE      | Purpose of house |\n",
    "| UTILITY_AVAIL  | Facilities available there |\n",
    "| STREET         | How is street outside that house |\n",
    "| MZZONE         | Which zone it is in |\n",
    "| QS_ROOMS       | It is masked data |\n",
    "| QS_BATHROOM    | It is masked data |\n",
    "| QS_BEDROOM     | It is masked data |\n",
    "| QS_OVERALL     | It is masked data |\n",
    "| REG_FEE        | Registration fee after sales |\n",
    "| COMMIS         | Commission fee after sales |\n",
    "| SALES_PRICE    | Sale price of house |"
   ]
  },
  {
   "cell_type": "code",
   "execution_count": 5,
   "metadata": {},
   "outputs": [],
   "source": [
    "#from pandas_profiling import profile_report\n",
    "#profile_report.ProfileReport(df, title='Pandas Profiling Report for Chennai Housing Price Dataset', explorative=True, vars={\"num\": {\"low_categorical_threshold\": 0}}).to_file(\"CHN_House_Price_Analysis.html\")"
   ]
  },
  {
   "cell_type": "code",
   "execution_count": 6,
   "metadata": {},
   "outputs": [],
   "source": [
    "data = df.drop(['PRT_ID', 'QS_ROOMS', 'QS_BATHROOM', 'QS_BEDROOM', 'QS_OVERALL'], axis = 1)"
   ]
  },
  {
   "cell_type": "code",
   "execution_count": 7,
   "metadata": {},
   "outputs": [
    {
     "data": {
      "text/plain": [
       "AREA             0.000000\n",
       "INT_SQFT         0.000000\n",
       "DATE_SALE        0.000000\n",
       "DIST_MAINROAD    0.000000\n",
       "N_BEDROOM        0.014067\n",
       "N_BATHROOM       0.070333\n",
       "N_ROOM           0.000000\n",
       "SALE_COND        0.000000\n",
       "PARK_FACIL       0.000000\n",
       "DATE_BUILD       0.000000\n",
       "BUILDTYPE        0.000000\n",
       "UTILITY_AVAIL    0.000000\n",
       "STREET           0.000000\n",
       "MZZONE           0.000000\n",
       "REG_FEE          0.000000\n",
       "COMMIS           0.000000\n",
       "SALES_PRICE      0.000000\n",
       "dtype: float64"
      ]
     },
     "execution_count": 7,
     "metadata": {},
     "output_type": "execute_result"
    }
   ],
   "source": [
    "data.isnull().sum()/len(df)*100"
   ]
  },
  {
   "cell_type": "code",
   "execution_count": 8,
   "metadata": {},
   "outputs": [
    {
     "data": {
      "text/plain": [
       "dtype('float64')"
      ]
     },
     "execution_count": 8,
     "metadata": {},
     "output_type": "execute_result"
    }
   ],
   "source": [
    "data['N_BEDROOM'].dtype"
   ]
  },
  {
   "cell_type": "code",
   "execution_count": 9,
   "metadata": {},
   "outputs": [
    {
     "data": {
      "text/plain": [
       "dtype('float64')"
      ]
     },
     "execution_count": 9,
     "metadata": {},
     "output_type": "execute_result"
    }
   ],
   "source": [
    "data['N_BATHROOM'].dtype"
   ]
  },
  {
   "cell_type": "code",
   "execution_count": 10,
   "metadata": {},
   "outputs": [],
   "source": [
    "data['N_BEDROOM'] = data['N_BEDROOM'].fillna(round(data['N_BEDROOM'].mean()))\n",
    "data['N_BATHROOM'] = data['N_BATHROOM'].fillna(round(data['N_BATHROOM'].mean()))"
   ]
  },
  {
   "cell_type": "code",
   "execution_count": 11,
   "metadata": {},
   "outputs": [
    {
     "data": {
      "text/plain": [
       "array([1., 2., 3., 4.])"
      ]
     },
     "execution_count": 11,
     "metadata": {},
     "output_type": "execute_result"
    }
   ],
   "source": [
    "data['N_BEDROOM'].unique()"
   ]
  },
  {
   "cell_type": "code",
   "execution_count": 12,
   "metadata": {},
   "outputs": [
    {
     "data": {
      "text/html": [
       "<div>\n",
       "<style scoped>\n",
       "    .dataframe tbody tr th:only-of-type {\n",
       "        vertical-align: middle;\n",
       "    }\n",
       "\n",
       "    .dataframe tbody tr th {\n",
       "        vertical-align: top;\n",
       "    }\n",
       "\n",
       "    .dataframe thead th {\n",
       "        text-align: right;\n",
       "    }\n",
       "</style>\n",
       "<table border=\"1\" class=\"dataframe\">\n",
       "  <thead>\n",
       "    <tr style=\"text-align: right;\">\n",
       "      <th></th>\n",
       "      <th>AREA</th>\n",
       "      <th>INT_SQFT</th>\n",
       "      <th>DATE_SALE</th>\n",
       "      <th>DIST_MAINROAD</th>\n",
       "      <th>N_BEDROOM</th>\n",
       "      <th>N_BATHROOM</th>\n",
       "      <th>N_ROOM</th>\n",
       "      <th>SALE_COND</th>\n",
       "      <th>PARK_FACIL</th>\n",
       "      <th>DATE_BUILD</th>\n",
       "      <th>BUILDTYPE</th>\n",
       "      <th>UTILITY_AVAIL</th>\n",
       "      <th>STREET</th>\n",
       "      <th>MZZONE</th>\n",
       "      <th>REG_FEE</th>\n",
       "      <th>COMMIS</th>\n",
       "      <th>SALES_PRICE</th>\n",
       "    </tr>\n",
       "  </thead>\n",
       "  <tbody>\n",
       "    <tr>\n",
       "      <th>0</th>\n",
       "      <td>Karapakkam</td>\n",
       "      <td>1004</td>\n",
       "      <td>04-05-2011</td>\n",
       "      <td>131</td>\n",
       "      <td>1.0</td>\n",
       "      <td>1.0</td>\n",
       "      <td>3</td>\n",
       "      <td>AbNormal</td>\n",
       "      <td>Yes</td>\n",
       "      <td>15-05-1967</td>\n",
       "      <td>Commercial</td>\n",
       "      <td>AllPub</td>\n",
       "      <td>Paved</td>\n",
       "      <td>A</td>\n",
       "      <td>380000</td>\n",
       "      <td>144400</td>\n",
       "      <td>7600000</td>\n",
       "    </tr>\n",
       "    <tr>\n",
       "      <th>1</th>\n",
       "      <td>Anna Nagar</td>\n",
       "      <td>1986</td>\n",
       "      <td>19-12-2006</td>\n",
       "      <td>26</td>\n",
       "      <td>2.0</td>\n",
       "      <td>1.0</td>\n",
       "      <td>5</td>\n",
       "      <td>AbNormal</td>\n",
       "      <td>No</td>\n",
       "      <td>22-12-1995</td>\n",
       "      <td>Commercial</td>\n",
       "      <td>AllPub</td>\n",
       "      <td>Gravel</td>\n",
       "      <td>RH</td>\n",
       "      <td>760122</td>\n",
       "      <td>304049</td>\n",
       "      <td>21717770</td>\n",
       "    </tr>\n",
       "    <tr>\n",
       "      <th>2</th>\n",
       "      <td>Adyar</td>\n",
       "      <td>909</td>\n",
       "      <td>04-02-2012</td>\n",
       "      <td>70</td>\n",
       "      <td>1.0</td>\n",
       "      <td>1.0</td>\n",
       "      <td>3</td>\n",
       "      <td>AbNormal</td>\n",
       "      <td>Yes</td>\n",
       "      <td>09-02-1992</td>\n",
       "      <td>Commercial</td>\n",
       "      <td>ELO</td>\n",
       "      <td>Gravel</td>\n",
       "      <td>RL</td>\n",
       "      <td>421094</td>\n",
       "      <td>92114</td>\n",
       "      <td>13159200</td>\n",
       "    </tr>\n",
       "    <tr>\n",
       "      <th>3</th>\n",
       "      <td>Velachery</td>\n",
       "      <td>1855</td>\n",
       "      <td>13-03-2010</td>\n",
       "      <td>14</td>\n",
       "      <td>3.0</td>\n",
       "      <td>2.0</td>\n",
       "      <td>5</td>\n",
       "      <td>Family</td>\n",
       "      <td>No</td>\n",
       "      <td>18-03-1988</td>\n",
       "      <td>Others</td>\n",
       "      <td>NoSewr</td>\n",
       "      <td>Paved</td>\n",
       "      <td>I</td>\n",
       "      <td>356321</td>\n",
       "      <td>77042</td>\n",
       "      <td>9630290</td>\n",
       "    </tr>\n",
       "    <tr>\n",
       "      <th>4</th>\n",
       "      <td>Karapakkam</td>\n",
       "      <td>1226</td>\n",
       "      <td>05-10-2009</td>\n",
       "      <td>84</td>\n",
       "      <td>1.0</td>\n",
       "      <td>1.0</td>\n",
       "      <td>3</td>\n",
       "      <td>AbNormal</td>\n",
       "      <td>Yes</td>\n",
       "      <td>13-10-1979</td>\n",
       "      <td>Others</td>\n",
       "      <td>AllPub</td>\n",
       "      <td>Gravel</td>\n",
       "      <td>C</td>\n",
       "      <td>237000</td>\n",
       "      <td>74063</td>\n",
       "      <td>7406250</td>\n",
       "    </tr>\n",
       "  </tbody>\n",
       "</table>\n",
       "</div>"
      ],
      "text/plain": [
       "         AREA  INT_SQFT   DATE_SALE  DIST_MAINROAD  N_BEDROOM  N_BATHROOM  \\\n",
       "0  Karapakkam      1004  04-05-2011            131        1.0         1.0   \n",
       "1  Anna Nagar      1986  19-12-2006             26        2.0         1.0   \n",
       "2       Adyar       909  04-02-2012             70        1.0         1.0   \n",
       "3   Velachery      1855  13-03-2010             14        3.0         2.0   \n",
       "4  Karapakkam      1226  05-10-2009             84        1.0         1.0   \n",
       "\n",
       "   N_ROOM SALE_COND PARK_FACIL  DATE_BUILD   BUILDTYPE UTILITY_AVAIL  STREET  \\\n",
       "0       3  AbNormal        Yes  15-05-1967  Commercial        AllPub   Paved   \n",
       "1       5  AbNormal         No  22-12-1995  Commercial        AllPub  Gravel   \n",
       "2       3  AbNormal        Yes  09-02-1992  Commercial           ELO  Gravel   \n",
       "3       5    Family         No  18-03-1988      Others       NoSewr    Paved   \n",
       "4       3  AbNormal        Yes  13-10-1979      Others        AllPub  Gravel   \n",
       "\n",
       "  MZZONE  REG_FEE  COMMIS  SALES_PRICE  \n",
       "0      A   380000  144400      7600000  \n",
       "1     RH   760122  304049     21717770  \n",
       "2     RL   421094   92114     13159200  \n",
       "3      I   356321   77042      9630290  \n",
       "4      C   237000   74063      7406250  "
      ]
     },
     "execution_count": 12,
     "metadata": {},
     "output_type": "execute_result"
    }
   ],
   "source": [
    "data.head()"
   ]
  },
  {
   "cell_type": "code",
   "execution_count": 13,
   "metadata": {},
   "outputs": [
    {
     "name": "stdout",
     "output_type": "stream",
     "text": [
      "<class 'pandas.core.frame.DataFrame'>\n",
      "RangeIndex: 7109 entries, 0 to 7108\n",
      "Data columns (total 17 columns):\n",
      " #   Column         Non-Null Count  Dtype  \n",
      "---  ------         --------------  -----  \n",
      " 0   AREA           7109 non-null   object \n",
      " 1   INT_SQFT       7109 non-null   int64  \n",
      " 2   DATE_SALE      7109 non-null   object \n",
      " 3   DIST_MAINROAD  7109 non-null   int64  \n",
      " 4   N_BEDROOM      7109 non-null   float64\n",
      " 5   N_BATHROOM     7109 non-null   float64\n",
      " 6   N_ROOM         7109 non-null   int64  \n",
      " 7   SALE_COND      7109 non-null   object \n",
      " 8   PARK_FACIL     7109 non-null   object \n",
      " 9   DATE_BUILD     7109 non-null   object \n",
      " 10  BUILDTYPE      7109 non-null   object \n",
      " 11  UTILITY_AVAIL  7109 non-null   object \n",
      " 12  STREET         7109 non-null   object \n",
      " 13  MZZONE         7109 non-null   object \n",
      " 14  REG_FEE        7109 non-null   int64  \n",
      " 15  COMMIS         7109 non-null   int64  \n",
      " 16  SALES_PRICE    7109 non-null   int64  \n",
      "dtypes: float64(2), int64(6), object(9)\n",
      "memory usage: 944.3+ KB\n"
     ]
    }
   ],
   "source": [
    "data.info()"
   ]
  },
  {
   "cell_type": "code",
   "execution_count": 14,
   "metadata": {},
   "outputs": [],
   "source": [
    "data['DATE_SALE'] = pd.to_datetime(data['DATE_SALE'], format=\"%d-%m-%Y\")"
   ]
  },
  {
   "cell_type": "code",
   "execution_count": 15,
   "metadata": {},
   "outputs": [],
   "source": [
    "data['DATE_BUILD'] = pd.to_datetime(data['DATE_BUILD'], format=\"%d-%m-%Y\")"
   ]
  },
  {
   "cell_type": "code",
   "execution_count": 16,
   "metadata": {},
   "outputs": [
    {
     "data": {
      "text/html": [
       "<div>\n",
       "<style scoped>\n",
       "    .dataframe tbody tr th:only-of-type {\n",
       "        vertical-align: middle;\n",
       "    }\n",
       "\n",
       "    .dataframe tbody tr th {\n",
       "        vertical-align: top;\n",
       "    }\n",
       "\n",
       "    .dataframe thead th {\n",
       "        text-align: right;\n",
       "    }\n",
       "</style>\n",
       "<table border=\"1\" class=\"dataframe\">\n",
       "  <thead>\n",
       "    <tr style=\"text-align: right;\">\n",
       "      <th></th>\n",
       "      <th>AREA</th>\n",
       "      <th>INT_SQFT</th>\n",
       "      <th>DATE_SALE</th>\n",
       "      <th>DIST_MAINROAD</th>\n",
       "      <th>N_BEDROOM</th>\n",
       "      <th>N_BATHROOM</th>\n",
       "      <th>N_ROOM</th>\n",
       "      <th>SALE_COND</th>\n",
       "      <th>PARK_FACIL</th>\n",
       "      <th>DATE_BUILD</th>\n",
       "      <th>BUILDTYPE</th>\n",
       "      <th>UTILITY_AVAIL</th>\n",
       "      <th>STREET</th>\n",
       "      <th>MZZONE</th>\n",
       "      <th>REG_FEE</th>\n",
       "      <th>COMMIS</th>\n",
       "      <th>SALES_PRICE</th>\n",
       "    </tr>\n",
       "  </thead>\n",
       "  <tbody>\n",
       "    <tr>\n",
       "      <th>0</th>\n",
       "      <td>Karapakkam</td>\n",
       "      <td>1004</td>\n",
       "      <td>2011-05-04</td>\n",
       "      <td>131</td>\n",
       "      <td>1.0</td>\n",
       "      <td>1.0</td>\n",
       "      <td>3</td>\n",
       "      <td>AbNormal</td>\n",
       "      <td>Yes</td>\n",
       "      <td>1967-05-15</td>\n",
       "      <td>Commercial</td>\n",
       "      <td>AllPub</td>\n",
       "      <td>Paved</td>\n",
       "      <td>A</td>\n",
       "      <td>380000</td>\n",
       "      <td>144400</td>\n",
       "      <td>7600000</td>\n",
       "    </tr>\n",
       "    <tr>\n",
       "      <th>1</th>\n",
       "      <td>Anna Nagar</td>\n",
       "      <td>1986</td>\n",
       "      <td>2006-12-19</td>\n",
       "      <td>26</td>\n",
       "      <td>2.0</td>\n",
       "      <td>1.0</td>\n",
       "      <td>5</td>\n",
       "      <td>AbNormal</td>\n",
       "      <td>No</td>\n",
       "      <td>1995-12-22</td>\n",
       "      <td>Commercial</td>\n",
       "      <td>AllPub</td>\n",
       "      <td>Gravel</td>\n",
       "      <td>RH</td>\n",
       "      <td>760122</td>\n",
       "      <td>304049</td>\n",
       "      <td>21717770</td>\n",
       "    </tr>\n",
       "    <tr>\n",
       "      <th>2</th>\n",
       "      <td>Adyar</td>\n",
       "      <td>909</td>\n",
       "      <td>2012-02-04</td>\n",
       "      <td>70</td>\n",
       "      <td>1.0</td>\n",
       "      <td>1.0</td>\n",
       "      <td>3</td>\n",
       "      <td>AbNormal</td>\n",
       "      <td>Yes</td>\n",
       "      <td>1992-02-09</td>\n",
       "      <td>Commercial</td>\n",
       "      <td>ELO</td>\n",
       "      <td>Gravel</td>\n",
       "      <td>RL</td>\n",
       "      <td>421094</td>\n",
       "      <td>92114</td>\n",
       "      <td>13159200</td>\n",
       "    </tr>\n",
       "    <tr>\n",
       "      <th>3</th>\n",
       "      <td>Velachery</td>\n",
       "      <td>1855</td>\n",
       "      <td>2010-03-13</td>\n",
       "      <td>14</td>\n",
       "      <td>3.0</td>\n",
       "      <td>2.0</td>\n",
       "      <td>5</td>\n",
       "      <td>Family</td>\n",
       "      <td>No</td>\n",
       "      <td>1988-03-18</td>\n",
       "      <td>Others</td>\n",
       "      <td>NoSewr</td>\n",
       "      <td>Paved</td>\n",
       "      <td>I</td>\n",
       "      <td>356321</td>\n",
       "      <td>77042</td>\n",
       "      <td>9630290</td>\n",
       "    </tr>\n",
       "    <tr>\n",
       "      <th>4</th>\n",
       "      <td>Karapakkam</td>\n",
       "      <td>1226</td>\n",
       "      <td>2009-10-05</td>\n",
       "      <td>84</td>\n",
       "      <td>1.0</td>\n",
       "      <td>1.0</td>\n",
       "      <td>3</td>\n",
       "      <td>AbNormal</td>\n",
       "      <td>Yes</td>\n",
       "      <td>1979-10-13</td>\n",
       "      <td>Others</td>\n",
       "      <td>AllPub</td>\n",
       "      <td>Gravel</td>\n",
       "      <td>C</td>\n",
       "      <td>237000</td>\n",
       "      <td>74063</td>\n",
       "      <td>7406250</td>\n",
       "    </tr>\n",
       "  </tbody>\n",
       "</table>\n",
       "</div>"
      ],
      "text/plain": [
       "         AREA  INT_SQFT  DATE_SALE  DIST_MAINROAD  N_BEDROOM  N_BATHROOM  \\\n",
       "0  Karapakkam      1004 2011-05-04            131        1.0         1.0   \n",
       "1  Anna Nagar      1986 2006-12-19             26        2.0         1.0   \n",
       "2       Adyar       909 2012-02-04             70        1.0         1.0   \n",
       "3   Velachery      1855 2010-03-13             14        3.0         2.0   \n",
       "4  Karapakkam      1226 2009-10-05             84        1.0         1.0   \n",
       "\n",
       "   N_ROOM SALE_COND PARK_FACIL DATE_BUILD   BUILDTYPE UTILITY_AVAIL  STREET  \\\n",
       "0       3  AbNormal        Yes 1967-05-15  Commercial        AllPub   Paved   \n",
       "1       5  AbNormal         No 1995-12-22  Commercial        AllPub  Gravel   \n",
       "2       3  AbNormal        Yes 1992-02-09  Commercial           ELO  Gravel   \n",
       "3       5    Family         No 1988-03-18      Others       NoSewr    Paved   \n",
       "4       3  AbNormal        Yes 1979-10-13      Others        AllPub  Gravel   \n",
       "\n",
       "  MZZONE  REG_FEE  COMMIS  SALES_PRICE  \n",
       "0      A   380000  144400      7600000  \n",
       "1     RH   760122  304049     21717770  \n",
       "2     RL   421094   92114     13159200  \n",
       "3      I   356321   77042      9630290  \n",
       "4      C   237000   74063      7406250  "
      ]
     },
     "execution_count": 16,
     "metadata": {},
     "output_type": "execute_result"
    }
   ],
   "source": [
    "data.head()"
   ]
  },
  {
   "cell_type": "code",
   "execution_count": 17,
   "metadata": {},
   "outputs": [
    {
     "data": {
      "text/plain": [
       "Index(['AREA', 'INT_SQFT', 'DATE_SALE', 'DIST_MAINROAD', 'N_BEDROOM',\n",
       "       'N_BATHROOM', 'N_ROOM', 'SALE_COND', 'PARK_FACIL', 'DATE_BUILD',\n",
       "       'BUILDTYPE', 'UTILITY_AVAIL', 'STREET', 'MZZONE', 'REG_FEE', 'COMMIS',\n",
       "       'SALES_PRICE'],\n",
       "      dtype='object')"
      ]
     },
     "execution_count": 17,
     "metadata": {},
     "output_type": "execute_result"
    }
   ],
   "source": [
    "data.columns"
   ]
  },
  {
   "cell_type": "code",
   "execution_count": 18,
   "metadata": {},
   "outputs": [
    {
     "name": "stdout",
     "output_type": "stream",
     "text": [
      "Unique values in  AREA : ['Karapakkam' 'Anna Nagar' 'Adyar' 'Velachery' 'Chrompet' 'KK Nagar'\n",
      " 'TNagar' 'T Nagar' 'Chrompt' 'Chrmpet' 'Karapakam' 'Ana Nagar' 'Chormpet'\n",
      " 'Adyr' 'Velchery' 'Ann Nagar' 'KKNagar'] \n",
      "\n",
      "Unique values in  SALE_COND : ['AbNormal' 'Family' 'Partial' 'AdjLand' 'Normal Sale' 'Ab Normal'\n",
      " 'Partiall' 'Adj Land' 'PartiaLl'] \n",
      "\n",
      "Unique values in  PARK_FACIL : ['Yes' 'No' 'Noo'] \n",
      "\n",
      "Unique values in  BUILDTYPE : ['Commercial' 'Others' 'Other' 'House' 'Comercial'] \n",
      "\n",
      "Unique values in  UTILITY_AVAIL : ['AllPub' 'ELO' 'NoSewr ' 'NoSeWa' 'All Pub'] \n",
      "\n",
      "Unique values in  STREET : ['Paved' 'Gravel' 'No Access' 'Pavd' 'NoAccess'] \n",
      "\n",
      "Unique values in  MZZONE : ['A' 'RH' 'RL' 'I' 'C' 'RM'] \n",
      "\n"
     ]
    }
   ],
   "source": [
    "cat_cols = ['AREA', 'SALE_COND', 'PARK_FACIL', 'BUILDTYPE',\n",
    "            'UTILITY_AVAIL', 'STREET', 'MZZONE']\n",
    "for i in cat_cols:\n",
    "    print(\"Unique values in \", i, \":\", data[i].unique(),\"\\n\")"
   ]
  },
  {
   "cell_type": "code",
   "execution_count": 19,
   "metadata": {},
   "outputs": [],
   "source": [
    "data['AREA'] = data['AREA'].replace({'Karapakam':'Karapakkam',\n",
    "                                     'TNagar':'T Nagar', \n",
    "                                     'Chrompt':'Chrompet', \n",
    "                                     'Chrmpet':'Chrompet', \n",
    "                                     'Chormpet':'Chrompet', \n",
    "                                     'Adyr':'Adyar', \n",
    "                                     'Velchery':'Velachery', \n",
    "                                     'Ann Nagar':'Anna Nagar', \n",
    "                                     'KKNagar':'KK Nagar', \n",
    "                                     'Ana Nagar':'Anna Nagar'})"
   ]
  },
  {
   "cell_type": "code",
   "execution_count": 20,
   "metadata": {},
   "outputs": [],
   "source": [
    "data['SALE_COND'] = data['SALE_COND'].replace({'AbNormal':'Abnormal', \n",
    "                                           'Ab Normal':'Abnormal',\n",
    "                                           'Partiall':'Partial',\n",
    "                                           'AdjLand':'Adj Land',\n",
    "                                           'PartiaLl':'Partial'})"
   ]
  },
  {
   "cell_type": "code",
   "execution_count": 21,
   "metadata": {},
   "outputs": [],
   "source": [
    "data['PARK_FACIL'] = data['PARK_FACIL'].replace({'Noo':'No'})"
   ]
  },
  {
   "cell_type": "code",
   "execution_count": 22,
   "metadata": {},
   "outputs": [],
   "source": [
    "data['BUILDTYPE'] = data['BUILDTYPE'].replace({'Comercial':'Commercial',\n",
    "                                           'Other':'Others'})"
   ]
  },
  {
   "cell_type": "code",
   "execution_count": 23,
   "metadata": {},
   "outputs": [],
   "source": [
    "data['UTILITY_AVAIL'] = data['UTILITY_AVAIL'].replace({'AllPub':'All Pub'})"
   ]
  },
  {
   "cell_type": "code",
   "execution_count": 24,
   "metadata": {},
   "outputs": [],
   "source": [
    "data['STREET'] = data['STREET'].replace({'Pavd':'Paved', \n",
    "                                     'NoAccess':'No Access'})"
   ]
  },
  {
   "cell_type": "code",
   "execution_count": 25,
   "metadata": {},
   "outputs": [
    {
     "name": "stdout",
     "output_type": "stream",
     "text": [
      "Unique values in  AREA : ['Karapakkam' 'Anna Nagar' 'Adyar' 'Velachery' 'Chrompet' 'KK Nagar'\n",
      " 'T Nagar'] \n",
      "\n",
      "Unique values in  SALE_COND : ['Abnormal' 'Family' 'Partial' 'Adj Land' 'Normal Sale'] \n",
      "\n",
      "Unique values in  PARK_FACIL : ['Yes' 'No'] \n",
      "\n",
      "Unique values in  BUILDTYPE : ['Commercial' 'Others' 'House'] \n",
      "\n",
      "Unique values in  UTILITY_AVAIL : ['All Pub' 'ELO' 'NoSewr ' 'NoSeWa'] \n",
      "\n",
      "Unique values in  STREET : ['Paved' 'Gravel' 'No Access'] \n",
      "\n",
      "Unique values in  MZZONE : ['A' 'RH' 'RL' 'I' 'C' 'RM'] \n",
      "\n"
     ]
    }
   ],
   "source": [
    "for i in cat_cols:\n",
    "    print(\"Unique values in \", i, \":\", data[i].unique(),\"\\n\")"
   ]
  },
  {
   "cell_type": "code",
   "execution_count": 26,
   "metadata": {},
   "outputs": [],
   "source": [
    "#import sweetviz \n",
    "#my_report = sweetviz.analyze(data,target_feat='SALES_PRICE')\n",
    "#my_report.show_html('EDA_Report.html')"
   ]
  },
  {
   "cell_type": "code",
   "execution_count": 27,
   "metadata": {},
   "outputs": [],
   "source": [
    "data['DATE_SALE_DAY'] = data['DATE_SALE'].dt.day\n",
    "data['DATE_SALE_MONTH'] = data['DATE_SALE'].dt.month\n",
    "data['DATE_SALE_YEAR'] = data['DATE_SALE'].dt.year"
   ]
  },
  {
   "cell_type": "code",
   "execution_count": 28,
   "metadata": {},
   "outputs": [],
   "source": [
    "data['DATE_BUILD_DAY'] = data['DATE_BUILD'].dt.day\n",
    "data['DATE_BUILD_MONTH'] = data['DATE_BUILD'].dt.month\n",
    "data['DATE_BUILD_YEAR'] = data['DATE_BUILD'].dt.year"
   ]
  },
  {
   "cell_type": "code",
   "execution_count": 29,
   "metadata": {},
   "outputs": [
    {
     "name": "stdout",
     "output_type": "stream",
     "text": [
      "<class 'pandas.core.frame.DataFrame'>\n",
      "RangeIndex: 7109 entries, 0 to 7108\n",
      "Data columns (total 21 columns):\n",
      " #   Column            Non-Null Count  Dtype  \n",
      "---  ------            --------------  -----  \n",
      " 0   AREA              7109 non-null   object \n",
      " 1   INT_SQFT          7109 non-null   int64  \n",
      " 2   DIST_MAINROAD     7109 non-null   int64  \n",
      " 3   N_BEDROOM         7109 non-null   float64\n",
      " 4   N_BATHROOM        7109 non-null   float64\n",
      " 5   N_ROOM            7109 non-null   int64  \n",
      " 6   SALE_COND         7109 non-null   object \n",
      " 7   PARK_FACIL        7109 non-null   object \n",
      " 8   BUILDTYPE         7109 non-null   object \n",
      " 9   UTILITY_AVAIL     7109 non-null   object \n",
      " 10  STREET            7109 non-null   object \n",
      " 11  MZZONE            7109 non-null   object \n",
      " 12  REG_FEE           7109 non-null   int64  \n",
      " 13  COMMIS            7109 non-null   int64  \n",
      " 14  SALES_PRICE       7109 non-null   int64  \n",
      " 15  DATE_SALE_DAY     7109 non-null   int64  \n",
      " 16  DATE_SALE_MONTH   7109 non-null   int64  \n",
      " 17  DATE_SALE_YEAR    7109 non-null   int64  \n",
      " 18  DATE_BUILD_DAY    7109 non-null   int64  \n",
      " 19  DATE_BUILD_MONTH  7109 non-null   int64  \n",
      " 20  DATE_BUILD_YEAR   7109 non-null   int64  \n",
      "dtypes: float64(2), int64(12), object(7)\n",
      "memory usage: 1.1+ MB\n"
     ]
    }
   ],
   "source": [
    "data = data.drop(['DATE_SALE', 'DATE_BUILD'], axis = 1)\n",
    "data.info()"
   ]
  },
  {
   "cell_type": "code",
   "execution_count": 30,
   "metadata": {},
   "outputs": [],
   "source": [
    "from sklearn.preprocessing import LabelEncoder\n",
    "le = LabelEncoder()\n",
    "for i in cat_cols:\n",
    "    data[i] = le.fit_transform(data[i])"
   ]
  },
  {
   "cell_type": "code",
   "execution_count": 31,
   "metadata": {},
   "outputs": [
    {
     "name": "stdout",
     "output_type": "stream",
     "text": [
      "<class 'pandas.core.frame.DataFrame'>\n",
      "RangeIndex: 7109 entries, 0 to 7108\n",
      "Data columns (total 21 columns):\n",
      " #   Column            Non-Null Count  Dtype  \n",
      "---  ------            --------------  -----  \n",
      " 0   AREA              7109 non-null   int32  \n",
      " 1   INT_SQFT          7109 non-null   int64  \n",
      " 2   DIST_MAINROAD     7109 non-null   int64  \n",
      " 3   N_BEDROOM         7109 non-null   float64\n",
      " 4   N_BATHROOM        7109 non-null   float64\n",
      " 5   N_ROOM            7109 non-null   int64  \n",
      " 6   SALE_COND         7109 non-null   int32  \n",
      " 7   PARK_FACIL        7109 non-null   int32  \n",
      " 8   BUILDTYPE         7109 non-null   int32  \n",
      " 9   UTILITY_AVAIL     7109 non-null   int32  \n",
      " 10  STREET            7109 non-null   int32  \n",
      " 11  MZZONE            7109 non-null   int32  \n",
      " 12  REG_FEE           7109 non-null   int64  \n",
      " 13  COMMIS            7109 non-null   int64  \n",
      " 14  SALES_PRICE       7109 non-null   int64  \n",
      " 15  DATE_SALE_DAY     7109 non-null   int64  \n",
      " 16  DATE_SALE_MONTH   7109 non-null   int64  \n",
      " 17  DATE_SALE_YEAR    7109 non-null   int64  \n",
      " 18  DATE_BUILD_DAY    7109 non-null   int64  \n",
      " 19  DATE_BUILD_MONTH  7109 non-null   int64  \n",
      " 20  DATE_BUILD_YEAR   7109 non-null   int64  \n",
      "dtypes: float64(2), int32(7), int64(12)\n",
      "memory usage: 972.1 KB\n"
     ]
    }
   ],
   "source": [
    "data.info()"
   ]
  },
  {
   "cell_type": "code",
   "execution_count": 32,
   "metadata": {},
   "outputs": [
    {
     "data": {
      "text/plain": [
       "<AxesSubplot:>"
      ]
     },
     "execution_count": 32,
     "metadata": {},
     "output_type": "execute_result"
    },
    {
     "data": {
      "image/png": "[encoded data removed]",
      "text/plain": [
       "<Figure size 1224x576 with 2 Axes>"
      ]
     },
     "metadata": {
      "needs_background": "light"
     },
     "output_type": "display_data"
    }
   ],
   "source": [
    "import seaborn as sns\n",
    "import matplotlib.pyplot as plt\n",
    "plt.figure(figsize=(17, 8))\n",
    "sns.heatmap(data.corr(), annot=True)"
   ]
  },
  {
   "cell_type": "code",
   "execution_count": 33,
   "metadata": {},
   "outputs": [
    {
     "name": "stdout",
     "output_type": "stream",
     "text": [
      "<class 'pandas.core.frame.DataFrame'>\n",
      "RangeIndex: 7109 entries, 0 to 7108\n",
      "Data columns (total 19 columns):\n",
      " #   Column           Non-Null Count  Dtype  \n",
      "---  ------           --------------  -----  \n",
      " 0   AREA             7109 non-null   int32  \n",
      " 1   INT_SQFT         7109 non-null   int64  \n",
      " 2   DIST_MAINROAD    7109 non-null   int64  \n",
      " 3   N_BEDROOM        7109 non-null   float64\n",
      " 4   N_BATHROOM       7109 non-null   float64\n",
      " 5   SALE_COND        7109 non-null   int32  \n",
      " 6   PARK_FACIL       7109 non-null   int32  \n",
      " 7   BUILDTYPE        7109 non-null   int32  \n",
      " 8   UTILITY_AVAIL    7109 non-null   int32  \n",
      " 9   STREET           7109 non-null   int32  \n",
      " 10  MZZONE           7109 non-null   int32  \n",
      " 11  REG_FEE          7109 non-null   int64  \n",
      " 12  COMMIS           7109 non-null   int64  \n",
      " 13  SALES_PRICE      7109 non-null   int64  \n",
      " 14  DATE_SALE_DAY    7109 non-null   int64  \n",
      " 15  DATE_SALE_MONTH  7109 non-null   int64  \n",
      " 16  DATE_SALE_YEAR   7109 non-null   int64  \n",
      " 17  DATE_BUILD_DAY   7109 non-null   int64  \n",
      " 18  DATE_BUILD_YEAR  7109 non-null   int64  \n",
      "dtypes: float64(2), int32(7), int64(10)\n",
      "memory usage: 861.0 KB\n"
     ]
    }
   ],
   "source": [
    "final_data = data.drop(['N_ROOM', 'DATE_BUILD_MONTH'], axis = 1)\n",
    "final_data.info()"
   ]
  },
  {
   "cell_type": "code",
   "execution_count": 34,
   "metadata": {},
   "outputs": [],
   "source": [
    "X = final_data.drop(['SALES_PRICE'], axis = 1)\n",
    "y = final_data['SALES_PRICE']"
   ]
  },
  {
   "cell_type": "code",
   "execution_count": 35,
   "metadata": {},
   "outputs": [],
   "source": [
    "from sklearn.model_selection import train_test_split\n",
    "X_train, X_test, y_train, y_test = train_test_split(X, y, test_size = 0.25)"
   ]
  },
  {
   "cell_type": "code",
   "execution_count": 36,
   "metadata": {},
   "outputs": [
    {
     "data": {
      "text/plain": [
       "(5331, 18)"
      ]
     },
     "execution_count": 36,
     "metadata": {},
     "output_type": "execute_result"
    }
   ],
   "source": [
    "X_train.shape"
   ]
  },
  {
   "cell_type": "code",
   "execution_count": 37,
   "metadata": {},
   "outputs": [
    {
     "data": {
      "text/plain": [
       "(1778, 18)"
      ]
     },
     "execution_count": 37,
     "metadata": {},
     "output_type": "execute_result"
    }
   ],
   "source": [
    "X_test.shape"
   ]
  },
  {
   "cell_type": "code",
   "execution_count": 38,
   "metadata": {},
   "outputs": [
    {
     "data": {
      "text/plain": [
       "(5331,)"
      ]
     },
     "execution_count": 38,
     "metadata": {},
     "output_type": "execute_result"
    }
   ],
   "source": [
    "y_train.shape"
   ]
  },
  {
   "cell_type": "code",
   "execution_count": 39,
   "metadata": {},
   "outputs": [
    {
     "data": {
      "text/plain": [
       "(1778,)"
      ]
     },
     "execution_count": 39,
     "metadata": {},
     "output_type": "execute_result"
    }
   ],
   "source": [
    "y_test.shape"
   ]
  },
  {
   "cell_type": "code",
   "execution_count": 40,
   "metadata": {},
   "outputs": [],
   "source": [
    "from sklearn.preprocessing import StandardScaler\n",
    "sc = StandardScaler()\n",
    "X_train = sc.fit_transform(X_train)\n",
    "X_test = sc.transform(X_test)"
   ]
  },
  {
   "cell_type": "code",
   "execution_count": 41,
   "metadata": {},
   "outputs": [],
   "source": [
    "from sklearn.metrics import mean_absolute_error, mean_squared_error, r2_score\n",
    "import numpy as np\n",
    "# n = no of observations\n",
    "# k = no of independent variables\n",
    "def acc_metrics(y_test,y_pred,n,k):\n",
    "    mae = mean_absolute_error(y_test,y_pred)\n",
    "    mse = mean_squared_error(y_test,y_pred)\n",
    "    rmse = np.sqrt(mse)\n",
    "    rmsle = np.log(rmse)\n",
    "    r2 = r2_score(y_test,y_pred)\n",
    "    adj_r2_score = 1 - ((1-r2)*(n-1)/(n-k-1))\n",
    "    return(mae, mse, rmse, rmsle, r2, adj_r2_score)"
   ]
  },
  {
   "cell_type": "code",
   "execution_count": 42,
   "metadata": {},
   "outputs": [],
   "source": [
    "def loss_plot(model):\n",
    "    # Model accuracy\n",
    "    plt.plot(model.history['loss'])\n",
    "    plt.plot(model.history['val_loss'])\n",
    "    plt.title('Model Loss')\n",
    "    plt.ylabel('loss')\n",
    "    plt.xlabel('epoch')\n",
    "    plt.legend(['train', 'test'])\n",
    "    plt.show()"
   ]
  },
  {
   "cell_type": "code",
   "execution_count": 43,
   "metadata": {},
   "outputs": [],
   "source": [
    "from tensorflow import keras\n",
    "from tensorflow.keras import layers"
   ]
  },
  {
   "cell_type": "code",
   "execution_count": 52,
   "metadata": {},
   "outputs": [
    {
     "name": "stdout",
     "output_type": "stream",
     "text": [
      "Model: \"sequential_2\"\n",
      "_________________________________________________________________\n",
      " Layer (type)                Output Shape              Param #   \n",
      "=================================================================\n",
      " dense_6 (Dense)             (None, 18)                342       \n",
      "                                                                 \n",
      " dense_7 (Dense)             (None, 36)                684       \n",
      "                                                                 \n",
      " dense_8 (Dense)             (None, 36)                1332      \n",
      "                                                                 \n",
      " dense_9 (Dense)             (None, 1)                 37        \n",
      "                                                                 \n",
      "=================================================================\n",
      "Total params: 2,395\n",
      "Trainable params: 2,395\n",
      "Non-trainable params: 0\n",
      "_________________________________________________________________\n"
     ]
    }
   ],
   "source": [
    "regr_1 = keras.Sequential()\n",
    "regr_1.add(layers.Dense(18, input_shape=(18,), activation='relu'))\n",
    "regr_1.add(layers.Dense(36, activation='relu'))\n",
    "regr_1.add(layers.Dense(36, activation='relu'))\n",
    "regr_1.add(layers.Dense(1))\n",
    "regr_1.compile(loss='mean_squared_error', optimizer='adam')\n",
    "regr_1.summary()"
   ]
  },
  {
   "cell_type": "code",
   "execution_count": 53,
   "metadata": {},
   "outputs": [
    {
     "name": "stdout",
     "output_type": "stream",
     "text": [
      "Epoch 1/100\n",
      "167/167 [==============================] - 1s 3ms/step - loss: 133671696728064.0000 - val_loss: 130567559446528.0000\n",
      "Epoch 2/100\n",
      "167/167 [==============================] - 0s 2ms/step - loss: 133600745881600.0000 - val_loss: 130382582251520.0000\n",
      "Epoch 3/100\n",
      "167/167 [==============================] - 0s 2ms/step - loss: 133104417112064.0000 - val_loss: 129488104980480.0000\n",
      "Epoch 4/100\n",
      "167/167 [==============================] - 0s 2ms/step - loss: 131450854703104.0000 - val_loss: 127054829846528.0000\n",
      "Epoch 5/100\n",
      "167/167 [==============================] - 0s 2ms/step - loss: 127696306700288.0000 - val_loss: 122130716950528.0000\n",
      "Epoch 6/100\n",
      "167/167 [==============================] - 0s 2ms/step - loss: 120972652838912.0000 - val_loss: 114017850884096.0000\n",
      "Epoch 7/100\n",
      "167/167 [==============================] - 0s 2ms/step - loss: 110779848196096.0000 - val_loss: 102511834824704.0000\n",
      "Epoch 8/100\n",
      "167/167 [==============================] - 0s 2ms/step - loss: 97266849284096.0000 - val_loss: 88198831144960.0000\n",
      "Epoch 9/100\n",
      "167/167 [==============================] - 0s 2ms/step - loss: 81538335113216.0000 - val_loss: 72449437728768.0000\n",
      "Epoch 10/100\n",
      "167/167 [==============================] - 0s 2ms/step - loss: 65467746091008.0000 - val_loss: 57327545745408.0000\n",
      "Epoch 11/100\n",
      "167/167 [==============================] - 0s 2ms/step - loss: 51195016118272.0000 - val_loss: 44770202222592.0000\n",
      "Epoch 12/100\n",
      "167/167 [==============================] - 0s 2ms/step - loss: 40117959917568.0000 - val_loss: 35462622216192.0000\n",
      "Epoch 13/100\n",
      "167/167 [==============================] - 0s 2ms/step - loss: 32237131137024.0000 - val_loss: 28932550164480.0000\n",
      "Epoch 14/100\n",
      "167/167 [==============================] - 0s 2ms/step - loss: 26684111716352.0000 - val_loss: 24205693288448.0000\n",
      "Epoch 15/100\n",
      "167/167 [==============================] - 0s 2ms/step - loss: 22541810794496.0000 - val_loss: 20610780495872.0000\n",
      "Epoch 16/100\n",
      "167/167 [==============================] - 0s 2ms/step - loss: 19292835807232.0000 - val_loss: 17763861004288.0000\n",
      "Epoch 17/100\n",
      "167/167 [==============================] - 0s 2ms/step - loss: 16697039781888.0000 - val_loss: 15474347737088.0000\n",
      "Epoch 18/100\n",
      "167/167 [==============================] - 0s 2ms/step - loss: 14618210598912.0000 - val_loss: 13660899508224.0000\n",
      "Epoch 19/100\n",
      "167/167 [==============================] - 0s 2ms/step - loss: 12966823985152.0000 - val_loss: 12217019793408.0000\n",
      "Epoch 20/100\n",
      "167/167 [==============================] - 0s 2ms/step - loss: 11643188674560.0000 - val_loss: 11060287373312.0000\n",
      "Epoch 21/100\n",
      "167/167 [==============================] - 0s 2ms/step - loss: 10563203629056.0000 - val_loss: 10096277979136.0000\n",
      "Epoch 22/100\n",
      "167/167 [==============================] - 0s 2ms/step - loss: 9659726430208.0000 - val_loss: 9279796936704.0000\n",
      "Epoch 23/100\n",
      "167/167 [==============================] - 0s 2ms/step - loss: 8880968957952.0000 - val_loss: 8563749552128.0000\n",
      "Epoch 24/100\n",
      "167/167 [==============================] - 0s 2ms/step - loss: 8194230321152.0000 - val_loss: 7933759324160.0000\n",
      "Epoch 25/100\n",
      "167/167 [==============================] - 0s 2ms/step - loss: 7583382372352.0000 - val_loss: 7368273821696.0000\n",
      "Epoch 26/100\n",
      "167/167 [==============================] - 0s 2ms/step - loss: 7034380484608.0000 - val_loss: 6849248100352.0000\n",
      "Epoch 27/100\n",
      "167/167 [==============================] - 0s 2ms/step - loss: 6537682616320.0000 - val_loss: 6385471324160.0000\n",
      "Epoch 28/100\n",
      "167/167 [==============================] - 0s 2ms/step - loss: 6089085026304.0000 - val_loss: 5960568406016.0000\n",
      "Epoch 29/100\n",
      "167/167 [==============================] - 0s 2ms/step - loss: 5680762716160.0000 - val_loss: 5569695973376.0000\n",
      "Epoch 30/100\n",
      "167/167 [==============================] - 0s 2ms/step - loss: 5312184057856.0000 - val_loss: 5221392056320.0000\n",
      "Epoch 31/100\n",
      "167/167 [==============================] - 0s 2ms/step - loss: 4976283222016.0000 - val_loss: 4908461326336.0000\n",
      "Epoch 32/100\n",
      "167/167 [==============================] - 0s 2ms/step - loss: 4670074388480.0000 - val_loss: 4613898502144.0000\n",
      "Epoch 33/100\n",
      "167/167 [==============================] - 0s 2ms/step - loss: 4394320658432.0000 - val_loss: 4357681053696.0000\n",
      "Epoch 34/100\n",
      "167/167 [==============================] - 0s 2ms/step - loss: 4144686956544.0000 - val_loss: 4113537433600.0000\n",
      "Epoch 35/100\n",
      "167/167 [==============================] - 0s 2ms/step - loss: 3917834354688.0000 - val_loss: 3899177304064.0000\n",
      "Epoch 36/100\n",
      "167/167 [==============================] - 0s 2ms/step - loss: 3712267321344.0000 - val_loss: 3702662627328.0000\n",
      "Epoch 37/100\n",
      "167/167 [==============================] - 0s 2ms/step - loss: 3525861703680.0000 - val_loss: 3527589232640.0000\n",
      "Epoch 38/100\n",
      "167/167 [==============================] - 0s 2ms/step - loss: 3359789809664.0000 - val_loss: 3363768893440.0000\n",
      "Epoch 39/100\n",
      "167/167 [==============================] - 0s 2ms/step - loss: 3208340045824.0000 - val_loss: 3218318819328.0000\n",
      "Epoch 40/100\n",
      "167/167 [==============================] - 0s 2ms/step - loss: 3071233753088.0000 - val_loss: 3086554759168.0000\n",
      "Epoch 41/100\n",
      "167/167 [==============================] - 0s 2ms/step - loss: 2946600534016.0000 - val_loss: 2964981547008.0000\n",
      "Epoch 42/100\n",
      "167/167 [==============================] - 0s 2ms/step - loss: 2833976393728.0000 - val_loss: 2857892839424.0000\n",
      "Epoch 43/100\n",
      "167/167 [==============================] - 0s 2ms/step - loss: 2734235058176.0000 - val_loss: 2758422560768.0000\n",
      "Epoch 44/100\n",
      "167/167 [==============================] - 0s 2ms/step - loss: 2645197324288.0000 - val_loss: 2673053794304.0000\n",
      "Epoch 45/100\n",
      "167/167 [==============================] - 0s 2ms/step - loss: 2562794979328.0000 - val_loss: 2594952445952.0000\n",
      "Epoch 46/100\n",
      "167/167 [==============================] - 0s 2ms/step - loss: 2488670355456.0000 - val_loss: 2521012109312.0000\n",
      "Epoch 47/100\n",
      "167/167 [==============================] - 0s 2ms/step - loss: 2421300658176.0000 - val_loss: 2455446487040.0000\n",
      "Epoch 48/100\n",
      "167/167 [==============================] - 0s 2ms/step - loss: 2359197433856.0000 - val_loss: 2398104059904.0000\n",
      "Epoch 49/100\n",
      "167/167 [==============================] - 0s 2ms/step - loss: 2303998296064.0000 - val_loss: 2338551496704.0000\n",
      "Epoch 50/100\n",
      "167/167 [==============================] - 0s 2ms/step - loss: 2251866243072.0000 - val_loss: 2287771320320.0000\n",
      "Epoch 51/100\n",
      "167/167 [==============================] - 0s 2ms/step - loss: 2205254680576.0000 - val_loss: 2240651198464.0000\n",
      "Epoch 52/100\n",
      "167/167 [==============================] - 0s 2ms/step - loss: 2161419485184.0000 - val_loss: 2196516634624.0000\n",
      "Epoch 53/100\n",
      "167/167 [==============================] - 0s 2ms/step - loss: 2119098433536.0000 - val_loss: 2156080791552.0000\n",
      "Epoch 54/100\n",
      "167/167 [==============================] - 0s 2ms/step - loss: 2083757228032.0000 - val_loss: 2118311084032.0000\n",
      "Epoch 55/100\n",
      "167/167 [==============================] - 0s 2ms/step - loss: 2049096941568.0000 - val_loss: 2084140875776.0000\n",
      "Epoch 56/100\n",
      "167/167 [==============================] - 0s 2ms/step - loss: 2017244610560.0000 - val_loss: 2056803581952.0000\n",
      "Epoch 57/100\n",
      "167/167 [==============================] - 0s 2ms/step - loss: 1990337495040.0000 - val_loss: 2025193472000.0000\n",
      "Epoch 58/100\n",
      "167/167 [==============================] - 0s 2ms/step - loss: 1963053809664.0000 - val_loss: 2000160161792.0000\n",
      "Epoch 59/100\n",
      "167/167 [==============================] - 0s 2ms/step - loss: 1939062259712.0000 - val_loss: 1976058380288.0000\n",
      "Epoch 60/100\n",
      "167/167 [==============================] - 0s 2ms/step - loss: 1915831582720.0000 - val_loss: 1951205949440.0000\n",
      "Epoch 61/100\n",
      "167/167 [==============================] - 0s 2ms/step - loss: 1895496155136.0000 - val_loss: 1932080971776.0000\n",
      "Epoch 62/100\n",
      "167/167 [==============================] - 0s 2ms/step - loss: 1876218347520.0000 - val_loss: 1913726435328.0000\n",
      "Epoch 63/100\n",
      "167/167 [==============================] - 0s 2ms/step - loss: 1856636583936.0000 - val_loss: 1892867506176.0000\n",
      "Epoch 64/100\n",
      "167/167 [==============================] - 0s 2ms/step - loss: 1839911927808.0000 - val_loss: 1880450138112.0000\n",
      "Epoch 65/100\n",
      "167/167 [==============================] - 0s 2ms/step - loss: 1824568377344.0000 - val_loss: 1863957348352.0000\n",
      "Epoch 66/100\n",
      "167/167 [==============================] - 0s 2ms/step - loss: 1809626431488.0000 - val_loss: 1848615501824.0000\n",
      "Epoch 67/100\n",
      "167/167 [==============================] - 0s 2ms/step - loss: 1795329097728.0000 - val_loss: 1836831211520.0000\n",
      "Epoch 68/100\n",
      "167/167 [==============================] - 0s 2ms/step - loss: 1782244442112.0000 - val_loss: 1823228952576.0000\n",
      "Epoch 69/100\n",
      "167/167 [==============================] - 0s 2ms/step - loss: 1770911432704.0000 - val_loss: 1810336710656.0000\n",
      "Epoch 70/100\n",
      "167/167 [==============================] - 0s 2ms/step - loss: 1758178050048.0000 - val_loss: 1800175222784.0000\n",
      "Epoch 71/100\n",
      "167/167 [==============================] - 0s 2ms/step - loss: 1746397429760.0000 - val_loss: 1789047996416.0000\n",
      "Epoch 72/100\n",
      "167/167 [==============================] - 0s 2ms/step - loss: 1737140600832.0000 - val_loss: 1780287537152.0000\n",
      "Epoch 73/100\n",
      "167/167 [==============================] - 0s 2ms/step - loss: 1726418124800.0000 - val_loss: 1768992014336.0000\n",
      "Epoch 74/100\n",
      "167/167 [==============================] - 0s 2ms/step - loss: 1714981830656.0000 - val_loss: 1760387137536.0000\n",
      "Epoch 75/100\n",
      "167/167 [==============================] - 0s 2ms/step - loss: 1706154262528.0000 - val_loss: 1751249453056.0000\n",
      "Epoch 76/100\n",
      "167/167 [==============================] - 0s 2ms/step - loss: 1696968343552.0000 - val_loss: 1742346649600.0000\n",
      "Epoch 77/100\n",
      "167/167 [==============================] - 0s 2ms/step - loss: 1685951873024.0000 - val_loss: 1733383815168.0000\n",
      "Epoch 78/100\n",
      "167/167 [==============================] - 0s 2ms/step - loss: 1680370958336.0000 - val_loss: 1725655285760.0000\n",
      "Epoch 79/100\n",
      "167/167 [==============================] - 0s 2ms/step - loss: 1671768440832.0000 - val_loss: 1720328126464.0000\n",
      "Epoch 80/100\n",
      "167/167 [==============================] - 0s 2ms/step - loss: 1662985437184.0000 - val_loss: 1711814868992.0000\n",
      "Epoch 81/100\n",
      "167/167 [==============================] - 0s 2ms/step - loss: 1655666245632.0000 - val_loss: 1705060466688.0000\n",
      "Epoch 82/100\n",
      "167/167 [==============================] - 0s 2ms/step - loss: 1646595670016.0000 - val_loss: 1698298986496.0000\n",
      "Epoch 83/100\n",
      "167/167 [==============================] - 0s 2ms/step - loss: 1640691138560.0000 - val_loss: 1692409004032.0000\n",
      "Epoch 84/100\n",
      "167/167 [==============================] - 0s 2ms/step - loss: 1633864515584.0000 - val_loss: 1685458780160.0000\n",
      "Epoch 85/100\n",
      "167/167 [==============================] - 0s 2ms/step - loss: 1627177091072.0000 - val_loss: 1684448346112.0000\n",
      "Epoch 86/100\n",
      "167/167 [==============================] - 0s 2ms/step - loss: 1620673167360.0000 - val_loss: 1675006443520.0000\n",
      "Epoch 87/100\n",
      "167/167 [==============================] - 0s 2ms/step - loss: 1612435030016.0000 - val_loss: 1672574795776.0000\n",
      "Epoch 88/100\n",
      "167/167 [==============================] - 0s 2ms/step - loss: 1606287097856.0000 - val_loss: 1663401066496.0000\n",
      "Epoch 89/100\n",
      "167/167 [==============================] - 0s 2ms/step - loss: 1600957841408.0000 - val_loss: 1657831555072.0000\n",
      "Epoch 90/100\n",
      "167/167 [==============================] - 0s 2ms/step - loss: 1594810826752.0000 - val_loss: 1652303855616.0000\n",
      "Epoch 91/100\n",
      "167/167 [==============================] - 0s 2ms/step - loss: 1589288894464.0000 - val_loss: 1646190526464.0000\n",
      "Epoch 92/100\n",
      "167/167 [==============================] - 0s 2ms/step - loss: 1583009890304.0000 - val_loss: 1645777911808.0000\n",
      "Epoch 93/100\n",
      "167/167 [==============================] - 0s 2ms/step - loss: 1577494511616.0000 - val_loss: 1637265309696.0000\n",
      "Epoch 94/100\n",
      "167/167 [==============================] - 0s 2ms/step - loss: 1570698035200.0000 - val_loss: 1631199166464.0000\n",
      "Epoch 95/100\n",
      "167/167 [==============================] - 0s 2ms/step - loss: 1565892411392.0000 - val_loss: 1625811189760.0000\n",
      "Epoch 96/100\n",
      "167/167 [==============================] - 0s 2ms/step - loss: 1561472532480.0000 - val_loss: 1620307214336.0000\n",
      "Epoch 97/100\n",
      "167/167 [==============================] - 0s 2ms/step - loss: 1555824902144.0000 - val_loss: 1615531343872.0000\n",
      "Epoch 98/100\n",
      "167/167 [==============================] - 0s 2ms/step - loss: 1549289914368.0000 - val_loss: 1614871789568.0000\n",
      "Epoch 99/100\n",
      "167/167 [==============================] - 0s 2ms/step - loss: 1544652587008.0000 - val_loss: 1606115131392.0000\n",
      "Epoch 100/100\n",
      "167/167 [==============================] - 0s 2ms/step - loss: 1538928672768.0000 - val_loss: 1601682931712.0000\n"
     ]
    }
   ],
   "source": [
    "model_1=regr_1.fit(X_train, y_train, validation_data=(X_test, y_test),epochs=100, batch_size=32)"
   ]
  },
  {
   "cell_type": "code",
   "execution_count": 54,
   "metadata": {},
   "outputs": [
    {
     "data": {
      "image/png": "[encoded data removed]",
      "text/plain": [
       "<Figure size 432x288 with 1 Axes>"
      ]
     },
     "metadata": {
      "needs_background": "light"
     },
     "output_type": "display_data"
    }
   ],
   "source": [
    "loss_plot(model_1)"
   ]
  },
  {
   "cell_type": "code",
   "execution_count": 55,
   "metadata": {},
   "outputs": [
    {
     "name": "stdout",
     "output_type": "stream",
     "text": [
      "MAE:  988926.3397075365\n",
      "MSE:  1601683212642.626\n",
      "RMSE:  1265576.2373885764\n",
      "RMSLE:  14.0510381000517\n",
      "R-Squared:  0.8846068058568921\n",
      "Adjusted R-Squared:  0.8834259772641826\n"
     ]
    }
   ],
   "source": [
    "metrics_1 = acc_metrics(y_test, regr_1.predict(X_test),X_test.shape[0],X_test.shape[1])\n",
    "print(\"MAE: \",metrics_1[0])\n",
    "print(\"MSE: \",metrics_1[1])\n",
    "print(\"RMSE: \",metrics_1[2])\n",
    "print(\"RMSLE: \",metrics_1[3])\n",
    "print(\"R-Squared: \",metrics_1[4])\n",
    "print(\"Adjusted R-Squared: \",metrics_1[5])"
   ]
  },
  {
   "cell_type": "code",
   "execution_count": 56,
   "metadata": {},
   "outputs": [
    {
     "name": "stdout",
     "output_type": "stream",
     "text": [
      "Model: \"sequential_3\"\n",
      "_________________________________________________________________\n",
      " Layer (type)                Output Shape              Param #   \n",
      "=================================================================\n",
      " dense_10 (Dense)            (None, 18)                342       \n",
      "                                                                 \n",
      " dense_11 (Dense)            (None, 9)                 171       \n",
      "                                                                 \n",
      " dense_12 (Dense)            (None, 9)                 90        \n",
      "                                                                 \n",
      " dense_13 (Dense)            (None, 1)                 10        \n",
      "                                                                 \n",
      "=================================================================\n",
      "Total params: 613\n",
      "Trainable params: 613\n",
      "Non-trainable params: 0\n",
      "_________________________________________________________________\n"
     ]
    }
   ],
   "source": [
    "regr_2 = keras.Sequential()\n",
    "regr_2.add(layers.Dense(18, input_shape=(18,), activation='relu'))\n",
    "regr_2.add(layers.Dense(9, activation='relu'))\n",
    "regr_2.add(layers.Dense(9, activation='relu'))\n",
    "regr_2.add(layers.Dense(1))\n",
    "regr_2.compile(loss='mean_squared_error', optimizer='adam')\n",
    "regr_2.summary()"
   ]
  },
  {
   "cell_type": "code",
   "execution_count": 57,
   "metadata": {},
   "outputs": [
    {
     "name": "stdout",
     "output_type": "stream",
     "text": [
      "Epoch 1/100\n",
      "167/167 [==============================] - 1s 3ms/step - loss: 133673525444608.0000 - val_loss: 130576560422912.0000\n",
      "Epoch 2/100\n",
      "167/167 [==============================] - 0s 2ms/step - loss: 133668869767168.0000 - val_loss: 130565613289472.0000\n",
      "Epoch 3/100\n",
      "167/167 [==============================] - 0s 2ms/step - loss: 133641246081024.0000 - val_loss: 130516690927616.0000\n",
      "Epoch 4/100\n",
      "167/167 [==============================] - 0s 2ms/step - loss: 133550951104512.0000 - val_loss: 130380896141312.0000\n",
      "Epoch 5/100\n",
      "167/167 [==============================] - 0s 2ms/step - loss: 133339801452544.0000 - val_loss: 130098938249216.0000\n",
      "Epoch 6/100\n",
      "167/167 [==============================] - 0s 2ms/step - loss: 132940428214272.0000 - val_loss: 129604530470912.0000\n",
      "Epoch 7/100\n",
      "167/167 [==============================] - 0s 2ms/step - loss: 132289119911936.0000 - val_loss: 128833088913408.0000\n",
      "Epoch 8/100\n",
      "167/167 [==============================] - 0s 2ms/step - loss: 131312182624256.0000 - val_loss: 127721690628096.0000\n",
      "Epoch 9/100\n",
      "167/167 [==============================] - 0s 2ms/step - loss: 129949470031872.0000 - val_loss: 126218636623872.0000\n",
      "Epoch 10/100\n",
      "167/167 [==============================] - 0s 2ms/step - loss: 128159517245440.0000 - val_loss: 124276422213632.0000\n",
      "Epoch 11/100\n",
      "167/167 [==============================] - 0s 2ms/step - loss: 125890834989056.0000 - val_loss: 121858196242432.0000\n",
      "Epoch 12/100\n",
      "167/167 [==============================] - 0s 2ms/step - loss: 123100079325184.0000 - val_loss: 118911571853312.0000\n",
      "Epoch 13/100\n",
      "167/167 [==============================] - 0s 2ms/step - loss: 119776772882432.0000 - val_loss: 115464877375488.0000\n",
      "Epoch 14/100\n",
      "167/167 [==============================] - 0s 2ms/step - loss: 115913164587008.0000 - val_loss: 111509631926272.0000\n",
      "Epoch 15/100\n",
      "167/167 [==============================] - 0s 2ms/step - loss: 111535116517376.0000 - val_loss: 107070246354944.0000\n",
      "Epoch 16/100\n",
      "167/167 [==============================] - 0s 2ms/step - loss: 106684143894528.0000 - val_loss: 102219726716928.0000\n",
      "Epoch 17/100\n",
      "167/167 [==============================] - 0s 2ms/step - loss: 101420174934016.0000 - val_loss: 96955522875392.0000\n",
      "Epoch 18/100\n",
      "167/167 [==============================] - 0s 2ms/step - loss: 95815796260864.0000 - val_loss: 91431322517504.0000\n",
      "Epoch 19/100\n",
      "167/167 [==============================] - 0s 2ms/step - loss: 89986787442688.0000 - val_loss: 85728201539584.0000\n",
      "Epoch 20/100\n",
      "167/167 [==============================] - 0s 2ms/step - loss: 84049490083840.0000 - val_loss: 79968910442496.0000\n",
      "Epoch 21/100\n",
      "167/167 [==============================] - 0s 2ms/step - loss: 78147928195072.0000 - val_loss: 74324451000320.0000\n",
      "Epoch 22/100\n",
      "167/167 [==============================] - 0s 2ms/step - loss: 72382320476160.0000 - val_loss: 68837655445504.0000\n",
      "Epoch 23/100\n",
      "167/167 [==============================] - 0s 2ms/step - loss: 66886486196224.0000 - val_loss: 63622189416448.0000\n",
      "Epoch 24/100\n",
      "167/167 [==============================] - 0s 2ms/step - loss: 61759285100544.0000 - val_loss: 58814904664064.0000\n",
      "Epoch 25/100\n",
      "167/167 [==============================] - 0s 2ms/step - loss: 57065582100480.0000 - val_loss: 54441638100992.0000\n",
      "Epoch 26/100\n",
      "167/167 [==============================] - 0s 2ms/step - loss: 52842245128192.0000 - val_loss: 50529711423488.0000\n",
      "Epoch 27/100\n",
      "167/167 [==============================] - 0s 2ms/step - loss: 49087520964608.0000 - val_loss: 47032588828672.0000\n",
      "Epoch 28/100\n",
      "167/167 [==============================] - 0s 2ms/step - loss: 45773643317248.0000 - val_loss: 43939524509696.0000\n",
      "Epoch 29/100\n",
      "167/167 [==============================] - 0s 2ms/step - loss: 42845750689792.0000 - val_loss: 41210647412736.0000\n",
      "Epoch 30/100\n",
      "167/167 [==============================] - 0s 2ms/step - loss: 40244288159744.0000 - val_loss: 38762457333760.0000\n",
      "Epoch 31/100\n",
      "167/167 [==============================] - 0s 2ms/step - loss: 37909453340672.0000 - val_loss: 36564063223808.0000\n",
      "Epoch 32/100\n",
      "167/167 [==============================] - 0s 2ms/step - loss: 35773415948288.0000 - val_loss: 34517446295552.0000\n",
      "Epoch 33/100\n",
      "167/167 [==============================] - 0s 2ms/step - loss: 33788534980608.0000 - val_loss: 32607500763136.0000\n",
      "Epoch 34/100\n",
      "167/167 [==============================] - 0s 2ms/step - loss: 31913832087552.0000 - val_loss: 30793627860992.0000\n",
      "Epoch 35/100\n",
      "167/167 [==============================] - 0s 2ms/step - loss: 30118537854976.0000 - val_loss: 29055839633408.0000\n",
      "Epoch 36/100\n",
      "167/167 [==============================] - 0s 2ms/step - loss: 28382616092672.0000 - val_loss: 27373288292352.0000\n",
      "Epoch 37/100\n",
      "167/167 [==============================] - 0s 2ms/step - loss: 26701463552000.0000 - val_loss: 25732656922624.0000\n",
      "Epoch 38/100\n",
      "167/167 [==============================] - 0s 2ms/step - loss: 25066511269888.0000 - val_loss: 24157800628224.0000\n",
      "Epoch 39/100\n",
      "167/167 [==============================] - 0s 2ms/step - loss: 23484807774208.0000 - val_loss: 22633234038784.0000\n",
      "Epoch 40/100\n",
      "167/167 [==============================] - 0s 2ms/step - loss: 21963380621312.0000 - val_loss: 21160829911040.0000\n",
      "Epoch 41/100\n",
      "167/167 [==============================] - 0s 2ms/step - loss: 20496728981504.0000 - val_loss: 19745199882240.0000\n",
      "Epoch 42/100\n",
      "167/167 [==============================] - 0s 2ms/step - loss: 19094873047040.0000 - val_loss: 18407250460672.0000\n",
      "Epoch 43/100\n",
      "167/167 [==============================] - 0s 2ms/step - loss: 17767403094016.0000 - val_loss: 17146826457088.0000\n",
      "Epoch 44/100\n",
      "167/167 [==============================] - 0s 2ms/step - loss: 16518191513600.0000 - val_loss: 15959455694848.0000\n",
      "Epoch 45/100\n",
      "167/167 [==============================] - 0s 2ms/step - loss: 15360000524288.0000 - val_loss: 14853761662976.0000\n",
      "Epoch 46/100\n",
      "167/167 [==============================] - 0s 2ms/step - loss: 14275591536640.0000 - val_loss: 13825380188160.0000\n",
      "Epoch 47/100\n",
      "167/167 [==============================] - 0s 2ms/step - loss: 13277337747456.0000 - val_loss: 12888425103360.0000\n",
      "Epoch 48/100\n",
      "167/167 [==============================] - 0s 2ms/step - loss: 12377214943232.0000 - val_loss: 12039689863168.0000\n",
      "Epoch 49/100\n",
      "167/167 [==============================] - 0s 2ms/step - loss: 11566007189504.0000 - val_loss: 11287251648512.0000\n",
      "Epoch 50/100\n",
      "167/167 [==============================] - 0s 2ms/step - loss: 10840972460032.0000 - val_loss: 10610738724864.0000\n",
      "Epoch 51/100\n",
      "167/167 [==============================] - 0s 2ms/step - loss: 10197119533056.0000 - val_loss: 10008917966848.0000\n",
      "Epoch 52/100\n",
      "167/167 [==============================] - 0s 2ms/step - loss: 9622432776192.0000 - val_loss: 9477848825856.0000\n",
      "Epoch 53/100\n",
      "167/167 [==============================] - 0s 2ms/step - loss: 9108668284928.0000 - val_loss: 8996463312896.0000\n",
      "Epoch 54/100\n",
      "167/167 [==============================] - 0s 2ms/step - loss: 8646806732800.0000 - val_loss: 8560039165952.0000\n",
      "Epoch 55/100\n",
      "167/167 [==============================] - 0s 2ms/step - loss: 8228616798208.0000 - val_loss: 8165142822912.0000\n",
      "Epoch 56/100\n",
      "167/167 [==============================] - 0s 2ms/step - loss: 7845873451008.0000 - val_loss: 7801005932544.0000\n",
      "Epoch 57/100\n",
      "167/167 [==============================] - 0s 2ms/step - loss: 7494381338624.0000 - val_loss: 7463502348288.0000\n",
      "Epoch 58/100\n",
      "167/167 [==============================] - 0s 2ms/step - loss: 7167947571200.0000 - val_loss: 7150488256512.0000\n",
      "Epoch 59/100\n",
      "167/167 [==============================] - 0s 2ms/step - loss: 6863058894848.0000 - val_loss: 6863703244800.0000\n",
      "Epoch 60/100\n",
      "167/167 [==============================] - 0s 2ms/step - loss: 6577152589824.0000 - val_loss: 6583508008960.0000\n",
      "Epoch 61/100\n",
      "167/167 [==============================] - 0s 2ms/step - loss: 6306653536256.0000 - val_loss: 6324462026752.0000\n",
      "Epoch 62/100\n",
      "167/167 [==============================] - 0s 2ms/step - loss: 6050867576832.0000 - val_loss: 6074114506752.0000\n",
      "Epoch 63/100\n",
      "167/167 [==============================] - 0s 2ms/step - loss: 5808787030016.0000 - val_loss: 5840005234688.0000\n",
      "Epoch 64/100\n",
      "167/167 [==============================] - 0s 2ms/step - loss: 5579193974784.0000 - val_loss: 5616083402752.0000\n",
      "Epoch 65/100\n",
      "167/167 [==============================] - 0s 2ms/step - loss: 5361364893696.0000 - val_loss: 5399057006592.0000\n",
      "Epoch 66/100\n",
      "167/167 [==============================] - 0s 2ms/step - loss: 5153300676608.0000 - val_loss: 5193896820736.0000\n",
      "Epoch 67/100\n",
      "167/167 [==============================] - 0s 2ms/step - loss: 4957215391744.0000 - val_loss: 5003492720640.0000\n",
      "Epoch 68/100\n",
      "167/167 [==============================] - 0s 2ms/step - loss: 4771132473344.0000 - val_loss: 4815344631808.0000\n",
      "Epoch 69/100\n",
      "167/167 [==============================] - 0s 2ms/step - loss: 4593668325376.0000 - val_loss: 4641437253632.0000\n",
      "Epoch 70/100\n",
      "167/167 [==============================] - 0s 2ms/step - loss: 4424589639680.0000 - val_loss: 4476031205376.0000\n",
      "Epoch 71/100\n",
      "167/167 [==============================] - 0s 2ms/step - loss: 4264703033344.0000 - val_loss: 4316232155136.0000\n",
      "Epoch 72/100\n",
      "167/167 [==============================] - 0s 2ms/step - loss: 4113857511424.0000 - val_loss: 4167095287808.0000\n",
      "Epoch 73/100\n",
      "167/167 [==============================] - 0s 2ms/step - loss: 3971041198080.0000 - val_loss: 4022739140608.0000\n",
      "Epoch 74/100\n",
      "167/167 [==============================] - 0s 2ms/step - loss: 3836033368064.0000 - val_loss: 3887540207616.0000\n",
      "Epoch 75/100\n",
      "167/167 [==============================] - 0s 2ms/step - loss: 3708487204864.0000 - val_loss: 3759285993472.0000\n",
      "Epoch 76/100\n",
      "167/167 [==============================] - 0s 2ms/step - loss: 3589392302080.0000 - val_loss: 3638165504000.0000\n",
      "Epoch 77/100\n",
      "167/167 [==============================] - 0s 2ms/step - loss: 3475918028800.0000 - val_loss: 3521441431552.0000\n",
      "Epoch 78/100\n",
      "167/167 [==============================] - 0s 2ms/step - loss: 3369183215616.0000 - val_loss: 3415769874432.0000\n",
      "Epoch 79/100\n",
      "167/167 [==============================] - 0s 2ms/step - loss: 3269169512448.0000 - val_loss: 3314234163200.0000\n",
      "Epoch 80/100\n",
      "167/167 [==============================] - 0s 2ms/step - loss: 3175989641216.0000 - val_loss: 3218345558016.0000\n",
      "Epoch 81/100\n",
      "167/167 [==============================] - 0s 2ms/step - loss: 3087833235456.0000 - val_loss: 3128879480832.0000\n",
      "Epoch 82/100\n",
      "167/167 [==============================] - 0s 2ms/step - loss: 3005502980096.0000 - val_loss: 3044836114432.0000\n",
      "Epoch 83/100\n",
      "167/167 [==============================] - 0s 2ms/step - loss: 2928269590528.0000 - val_loss: 2967040950272.0000\n",
      "Epoch 84/100\n",
      "167/167 [==============================] - 0s 2ms/step - loss: 2856194408448.0000 - val_loss: 2893039796224.0000\n",
      "Epoch 85/100\n",
      "167/167 [==============================] - 0s 2ms/step - loss: 2788466622464.0000 - val_loss: 2824569356288.0000\n",
      "Epoch 86/100\n",
      "167/167 [==============================] - 0s 2ms/step - loss: 2726107807744.0000 - val_loss: 2759174651904.0000\n",
      "Epoch 87/100\n",
      "167/167 [==============================] - 0s 2ms/step - loss: 2667190943744.0000 - val_loss: 2701818593280.0000\n",
      "Epoch 88/100\n",
      "167/167 [==============================] - 0s 2ms/step - loss: 2613156249600.0000 - val_loss: 2645941813248.0000\n",
      "Epoch 89/100\n",
      "167/167 [==============================] - 0s 2ms/step - loss: 2561406926848.0000 - val_loss: 2591597264896.0000\n",
      "Epoch 90/100\n",
      "167/167 [==============================] - 0s 2ms/step - loss: 2514163073024.0000 - val_loss: 2542178664448.0000\n",
      "Epoch 91/100\n",
      "167/167 [==============================] - 0s 2ms/step - loss: 2469522309120.0000 - val_loss: 2496817004544.0000\n",
      "Epoch 92/100\n",
      "167/167 [==============================] - 0s 2ms/step - loss: 2427571666944.0000 - val_loss: 2454310879232.0000\n",
      "Epoch 93/100\n",
      "167/167 [==============================] - 0s 2ms/step - loss: 2388549173248.0000 - val_loss: 2413781843968.0000\n",
      "Epoch 94/100\n",
      "167/167 [==============================] - 0s 2ms/step - loss: 2352251666432.0000 - val_loss: 2374753845248.0000\n",
      "Epoch 95/100\n",
      "167/167 [==============================] - 0s 2ms/step - loss: 2316975210496.0000 - val_loss: 2340223451136.0000\n",
      "Epoch 96/100\n",
      "167/167 [==============================] - 0s 2ms/step - loss: 2285284360192.0000 - val_loss: 2305605763072.0000\n",
      "Epoch 97/100\n",
      "167/167 [==============================] - 0s 2ms/step - loss: 2254787051520.0000 - val_loss: 2275136765952.0000\n",
      "Epoch 98/100\n",
      "167/167 [==============================] - 0s 2ms/step - loss: 2226629378048.0000 - val_loss: 2245411209216.0000\n",
      "Epoch 99/100\n",
      "167/167 [==============================] - 0s 2ms/step - loss: 2199679926272.0000 - val_loss: 2217520660480.0000\n",
      "Epoch 100/100\n",
      "167/167 [==============================] - 0s 2ms/step - loss: 2174064525312.0000 - val_loss: 2191851257856.0000\n"
     ]
    }
   ],
   "source": [
    "model_2=regr_2.fit(X_train, y_train, validation_data=(X_test, y_test),epochs=100, batch_size=32)"
   ]
  },
  {
   "cell_type": "code",
   "execution_count": 58,
   "metadata": {},
   "outputs": [
    {
     "data": {
      "image/png": "[encoded data removed]",
      "text/plain": [
       "<Figure size 432x288 with 1 Axes>"
      ]
     },
     "metadata": {
      "needs_background": "light"
     },
     "output_type": "display_data"
    }
   ],
   "source": [
    "loss_plot(model_2)"
   ]
  },
  {
   "cell_type": "code",
   "execution_count": 59,
   "metadata": {},
   "outputs": [
    {
     "name": "stdout",
     "output_type": "stream",
     "text": [
      "MAE:  1145001.946006749\n",
      "MSE:  2191851471414.1577\n",
      "RMSE:  1480490.2807563979\n",
      "RMSLE:  14.207883861663598\n",
      "R-Squared:  0.8420881605193022\n",
      "Adjusted R-Squared:  0.8404722349305287\n"
     ]
    }
   ],
   "source": [
    "metrics_2 = acc_metrics(y_test, regr_2.predict(X_test),X_test.shape[0],X_test.shape[1])\n",
    "print(\"MAE: \",metrics_2[0])\n",
    "print(\"MSE: \",metrics_2[1])\n",
    "print(\"RMSE: \",metrics_2[2])\n",
    "print(\"RMSLE: \",metrics_2[3])\n",
    "print(\"R-Squared: \",metrics_2[4])\n",
    "print(\"Adjusted R-Squared: \",metrics_2[5])"
   ]
  },
  {
   "cell_type": "code",
   "execution_count": 62,
   "metadata": {},
   "outputs": [
    {
     "name": "stdout",
     "output_type": "stream",
     "text": [
      "Model: \"sequential_5\"\n",
      "_________________________________________________________________\n",
      " Layer (type)                Output Shape              Param #   \n",
      "=================================================================\n",
      " dense_18 (Dense)            (None, 18)                342       \n",
      "                                                                 \n",
      " dense_19 (Dense)            (None, 54)                1026      \n",
      "                                                                 \n",
      " dense_20 (Dense)            (None, 54)                2970      \n",
      "                                                                 \n",
      " dense_21 (Dense)            (None, 1)                 55        \n",
      "                                                                 \n",
      "=================================================================\n",
      "Total params: 4,393\n",
      "Trainable params: 4,393\n",
      "Non-trainable params: 0\n",
      "_________________________________________________________________\n"
     ]
    }
   ],
   "source": [
    "regr_3 = keras.Sequential()\n",
    "regr_3.add(layers.Dense(18, input_shape=(18,), activation='relu'))\n",
    "regr_3.add(layers.Dense(54, activation='relu'))\n",
    "regr_3.add(layers.Dense(54, activation='relu'))\n",
    "regr_3.add(layers.Dense(1))\n",
    "regr_3.compile(loss='mean_squared_error', optimizer='adam')\n",
    "regr_3.summary()"
   ]
  },
  {
   "cell_type": "code",
   "execution_count": 63,
   "metadata": {},
   "outputs": [
    {
     "name": "stdout",
     "output_type": "stream",
     "text": [
      "Epoch 1/100\n",
      "167/167 [==============================] - 1s 3ms/step - loss: 133669901565952.0000 - val_loss: 130556587147264.0000\n",
      "Epoch 2/100\n",
      "167/167 [==============================] - 0s 2ms/step - loss: 133501793861632.0000 - val_loss: 130112049643520.0000\n",
      "Epoch 3/100\n",
      "167/167 [==============================] - 0s 2ms/step - loss: 132301895761920.0000 - val_loss: 127949441335296.0000\n",
      "Epoch 4/100\n",
      "167/167 [==============================] - 0s 2ms/step - loss: 128352639778816.0000 - val_loss: 122148735680512.0000\n",
      "Epoch 5/100\n",
      "167/167 [==============================] - 0s 2ms/step - loss: 119717515755520.0000 - val_loss: 111091115884544.0000\n",
      "Epoch 6/100\n",
      "167/167 [==============================] - 0s 2ms/step - loss: 105371855224832.0000 - val_loss: 94796563611648.0000\n",
      "Epoch 7/100\n",
      "167/167 [==============================] - 0s 2ms/step - loss: 86504533655552.0000 - val_loss: 75503461466112.0000\n",
      "Epoch 8/100\n",
      "167/167 [==============================] - 0s 2ms/step - loss: 67114765385728.0000 - val_loss: 57971551764480.0000\n",
      "Epoch 9/100\n",
      "167/167 [==============================] - 0s 2ms/step - loss: 51655227736064.0000 - val_loss: 45323888099328.0000\n",
      "Epoch 10/100\n",
      "167/167 [==============================] - 0s 2ms/step - loss: 41260685459456.0000 - val_loss: 36938589405184.0000\n",
      "Epoch 11/100\n",
      "167/167 [==============================] - 0s 2ms/step - loss: 34065040277504.0000 - val_loss: 30719118147584.0000\n",
      "Epoch 12/100\n",
      "167/167 [==============================] - 0s 2ms/step - loss: 28248834572288.0000 - val_loss: 25421234044928.0000\n",
      "Epoch 13/100\n",
      "167/167 [==============================] - 0s 2ms/step - loss: 23088831922176.0000 - val_loss: 20683761385472.0000\n",
      "Epoch 14/100\n",
      "167/167 [==============================] - 0s 2ms/step - loss: 18553155616768.0000 - val_loss: 16636243345408.0000\n",
      "Epoch 15/100\n",
      "167/167 [==============================] - 0s 2ms/step - loss: 14728692760576.0000 - val_loss: 13282660319232.0000\n",
      "Epoch 16/100\n",
      "167/167 [==============================] - 0s 2ms/step - loss: 11683731865600.0000 - val_loss: 10694808305664.0000\n",
      "Epoch 17/100\n",
      "167/167 [==============================] - 0s 2ms/step - loss: 9390093500416.0000 - val_loss: 8752228466688.0000\n",
      "Epoch 18/100\n",
      "167/167 [==============================] - 0s 2ms/step - loss: 7746421260288.0000 - val_loss: 7387823996928.0000\n",
      "Epoch 19/100\n",
      "167/167 [==============================] - 0s 2ms/step - loss: 6600203436032.0000 - val_loss: 6416693723136.0000\n",
      "Epoch 20/100\n",
      "167/167 [==============================] - 0s 2ms/step - loss: 5792772653056.0000 - val_loss: 5716044152832.0000\n",
      "Epoch 21/100\n",
      "167/167 [==============================] - 0s 2ms/step - loss: 5199013347328.0000 - val_loss: 5182734204928.0000\n",
      "Epoch 22/100\n",
      "167/167 [==============================] - 0s 2ms/step - loss: 4747501240320.0000 - val_loss: 4774652542976.0000\n",
      "Epoch 23/100\n",
      "167/167 [==============================] - 0s 2ms/step - loss: 4388759797760.0000 - val_loss: 4430497841152.0000\n",
      "Epoch 24/100\n",
      "167/167 [==============================] - 0s 2ms/step - loss: 4091880407040.0000 - val_loss: 4143649914880.0000\n",
      "Epoch 25/100\n",
      "167/167 [==============================] - 0s 2ms/step - loss: 3841503789056.0000 - val_loss: 3899937521664.0000\n",
      "Epoch 26/100\n",
      "167/167 [==============================] - 0s 2ms/step - loss: 3626184998912.0000 - val_loss: 3689206513664.0000\n",
      "Epoch 27/100\n",
      "167/167 [==============================] - 0s 2ms/step - loss: 3438613889024.0000 - val_loss: 3505216028672.0000\n",
      "Epoch 28/100\n",
      "167/167 [==============================] - 0s 2ms/step - loss: 3276334694400.0000 - val_loss: 3345813340160.0000\n",
      "Epoch 29/100\n",
      "167/167 [==============================] - 0s 2ms/step - loss: 3135715147776.0000 - val_loss: 3208645967872.0000\n",
      "Epoch 30/100\n",
      "167/167 [==============================] - 0s 2ms/step - loss: 3009664778240.0000 - val_loss: 3080870690816.0000\n",
      "Epoch 31/100\n",
      "167/167 [==============================] - 0s 2ms/step - loss: 2898020007936.0000 - val_loss: 2974113071104.0000\n",
      "Epoch 32/100\n",
      "167/167 [==============================] - 0s 2ms/step - loss: 2800651337728.0000 - val_loss: 2873368248320.0000\n",
      "Epoch 33/100\n",
      "167/167 [==============================] - 0s 2ms/step - loss: 2713162350592.0000 - val_loss: 2786560049152.0000\n",
      "Epoch 34/100\n",
      "167/167 [==============================] - 0s 2ms/step - loss: 2635830132736.0000 - val_loss: 2709965766656.0000\n",
      "Epoch 35/100\n",
      "167/167 [==============================] - 0s 2ms/step - loss: 2565530451968.0000 - val_loss: 2638210662400.0000\n",
      "Epoch 36/100\n",
      "167/167 [==============================] - 0s 2ms/step - loss: 2501627609088.0000 - val_loss: 2576914055168.0000\n",
      "Epoch 37/100\n",
      "167/167 [==============================] - 0s 2ms/step - loss: 2443908481024.0000 - val_loss: 2522888011776.0000\n",
      "Epoch 38/100\n",
      "167/167 [==============================] - 0s 2ms/step - loss: 2389176745984.0000 - val_loss: 2468720148480.0000\n",
      "Epoch 39/100\n",
      "167/167 [==============================] - 0s 2ms/step - loss: 2343348469760.0000 - val_loss: 2423803871232.0000\n",
      "Epoch 40/100\n",
      "167/167 [==============================] - 0s 2ms/step - loss: 2298228506624.0000 - val_loss: 2378255564800.0000\n",
      "Epoch 41/100\n",
      "167/167 [==============================] - 0s 2ms/step - loss: 2256821026816.0000 - val_loss: 2338355150848.0000\n",
      "Epoch 42/100\n",
      "167/167 [==============================] - 0s 2ms/step - loss: 2218971627520.0000 - val_loss: 2299963113472.0000\n",
      "Epoch 43/100\n",
      "167/167 [==============================] - 0s 2ms/step - loss: 2183156596736.0000 - val_loss: 2266471858176.0000\n",
      "Epoch 44/100\n",
      "167/167 [==============================] - 0s 2ms/step - loss: 2150163808256.0000 - val_loss: 2234410336256.0000\n",
      "Epoch 45/100\n",
      "167/167 [==============================] - 0s 3ms/step - loss: 2122271162368.0000 - val_loss: 2204459859968.0000\n",
      "Epoch 46/100\n",
      "167/167 [==============================] - 0s 2ms/step - loss: 2093587234816.0000 - val_loss: 2178270363648.0000\n",
      "Epoch 47/100\n",
      "167/167 [==============================] - 0s 2ms/step - loss: 2067800915968.0000 - val_loss: 2152823521280.0000\n",
      "Epoch 48/100\n",
      "167/167 [==============================] - 0s 2ms/step - loss: 2042491830272.0000 - val_loss: 2126326136832.0000\n",
      "Epoch 49/100\n",
      "167/167 [==============================] - 0s 2ms/step - loss: 2021556355072.0000 - val_loss: 2100882178048.0000\n",
      "Epoch 50/100\n",
      "167/167 [==============================] - 0s 2ms/step - loss: 1999022850048.0000 - val_loss: 2081699135488.0000\n",
      "Epoch 51/100\n",
      "167/167 [==============================] - 0s 2ms/step - loss: 1981815062528.0000 - val_loss: 2064506945536.0000\n",
      "Epoch 52/100\n",
      "167/167 [==============================] - 0s 2ms/step - loss: 1959182598144.0000 - val_loss: 2045315776512.0000\n",
      "Epoch 53/100\n",
      "167/167 [==============================] - 0s 2ms/step - loss: 1944356651008.0000 - val_loss: 2027366383616.0000\n",
      "Epoch 54/100\n",
      "167/167 [==============================] - 0s 2ms/step - loss: 1927115571200.0000 - val_loss: 2006980886528.0000\n",
      "Epoch 55/100\n",
      "167/167 [==============================] - 0s 2ms/step - loss: 1910630645760.0000 - val_loss: 1993365782528.0000\n",
      "Epoch 56/100\n",
      "167/167 [==============================] - 0s 2ms/step - loss: 1894717587456.0000 - val_loss: 1981773643776.0000\n",
      "Epoch 57/100\n",
      "167/167 [==============================] - 0s 2ms/step - loss: 1879091052544.0000 - val_loss: 1963468914688.0000\n",
      "Epoch 58/100\n",
      "167/167 [==============================] - 0s 2ms/step - loss: 1866192257024.0000 - val_loss: 1949371072512.0000\n",
      "Epoch 59/100\n",
      "167/167 [==============================] - 0s 2ms/step - loss: 1852642689024.0000 - val_loss: 1933445169152.0000\n",
      "Epoch 60/100\n",
      "167/167 [==============================] - 0s 2ms/step - loss: 1839253028864.0000 - val_loss: 1923809017856.0000\n",
      "Epoch 61/100\n",
      "167/167 [==============================] - 0s 2ms/step - loss: 1827484860416.0000 - val_loss: 1906946867200.0000\n",
      "Epoch 62/100\n",
      "167/167 [==============================] - 0s 2ms/step - loss: 1817034358784.0000 - val_loss: 1896959705088.0000\n",
      "Epoch 63/100\n",
      "167/167 [==============================] - 0s 2ms/step - loss: 1804281577472.0000 - val_loss: 1886402510848.0000\n",
      "Epoch 64/100\n",
      "167/167 [==============================] - 0s 2ms/step - loss: 1796154720256.0000 - val_loss: 1874119622656.0000\n",
      "Epoch 65/100\n",
      "167/167 [==============================] - 0s 2ms/step - loss: 1784236081152.0000 - val_loss: 1864595668992.0000\n",
      "Epoch 66/100\n",
      "167/167 [==============================] - 0s 2ms/step - loss: 1775946170368.0000 - val_loss: 1854957551616.0000\n",
      "Epoch 67/100\n",
      "167/167 [==============================] - 0s 2ms/step - loss: 1766293372928.0000 - val_loss: 1845214445568.0000\n",
      "Epoch 68/100\n",
      "167/167 [==============================] - 0s 2ms/step - loss: 1754745143296.0000 - val_loss: 1842251300864.0000\n",
      "Epoch 69/100\n",
      "167/167 [==============================] - 0s 2ms/step - loss: 1749098823680.0000 - val_loss: 1831419379712.0000\n",
      "Epoch 70/100\n",
      "167/167 [==============================] - 0s 2ms/step - loss: 1742558330880.0000 - val_loss: 1823795970048.0000\n",
      "Epoch 71/100\n",
      "167/167 [==============================] - 0s 2ms/step - loss: 1733756452864.0000 - val_loss: 1814167945216.0000\n",
      "Epoch 72/100\n",
      "167/167 [==============================] - 0s 2ms/step - loss: 1724892577792.0000 - val_loss: 1806483193856.0000\n",
      "Epoch 73/100\n",
      "167/167 [==============================] - 0s 2ms/step - loss: 1717515583488.0000 - val_loss: 1799805337600.0000\n",
      "Epoch 74/100\n",
      "167/167 [==============================] - 0s 2ms/step - loss: 1709814972416.0000 - val_loss: 1790828347392.0000\n",
      "Epoch 75/100\n",
      "167/167 [==============================] - 0s 2ms/step - loss: 1701586534400.0000 - val_loss: 1785282953216.0000\n",
      "Epoch 76/100\n",
      "167/167 [==============================] - 0s 2ms/step - loss: 1693958930432.0000 - val_loss: 1780448755712.0000\n",
      "Epoch 77/100\n",
      "167/167 [==============================] - 0s 2ms/step - loss: 1687003332608.0000 - val_loss: 1769635315712.0000\n",
      "Epoch 78/100\n",
      "167/167 [==============================] - 0s 2ms/step - loss: 1679907487744.0000 - val_loss: 1768760279040.0000\n",
      "Epoch 79/100\n",
      "167/167 [==============================] - 0s 2ms/step - loss: 1673410904064.0000 - val_loss: 1758367842304.0000\n",
      "Epoch 80/100\n",
      "167/167 [==============================] - 0s 2ms/step - loss: 1667207397376.0000 - val_loss: 1751695360000.0000\n",
      "Epoch 81/100\n",
      "167/167 [==============================] - 0s 2ms/step - loss: 1660220473344.0000 - val_loss: 1748262191104.0000\n",
      "Epoch 82/100\n",
      "167/167 [==============================] - 0s 2ms/step - loss: 1654264299520.0000 - val_loss: 1738623811584.0000\n",
      "Epoch 83/100\n",
      "167/167 [==============================] - 0s 2ms/step - loss: 1646326185984.0000 - val_loss: 1731817504768.0000\n",
      "Epoch 84/100\n",
      "167/167 [==============================] - 0s 2ms/step - loss: 1640317583360.0000 - val_loss: 1726306844672.0000\n",
      "Epoch 85/100\n",
      "167/167 [==============================] - 0s 2ms/step - loss: 1632963133440.0000 - val_loss: 1722061291520.0000\n",
      "Epoch 86/100\n",
      "167/167 [==============================] - 0s 2ms/step - loss: 1626732888064.0000 - val_loss: 1712787292160.0000\n",
      "Epoch 87/100\n",
      "167/167 [==============================] - 0s 2ms/step - loss: 1620618903552.0000 - val_loss: 1707896602624.0000\n",
      "Epoch 88/100\n",
      "167/167 [==============================] - 0s 2ms/step - loss: 1612954599424.0000 - val_loss: 1701551931392.0000\n",
      "Epoch 89/100\n",
      "167/167 [==============================] - 0s 2ms/step - loss: 1606615433216.0000 - val_loss: 1696341819392.0000\n",
      "Epoch 90/100\n",
      "167/167 [==============================] - 0s 2ms/step - loss: 1599061098496.0000 - val_loss: 1688269094912.0000\n",
      "Epoch 91/100\n",
      "167/167 [==============================] - 0s 2ms/step - loss: 1594722222080.0000 - val_loss: 1683178127360.0000\n",
      "Epoch 92/100\n",
      "167/167 [==============================] - 0s 2ms/step - loss: 1588121436160.0000 - val_loss: 1676922191872.0000\n",
      "Epoch 93/100\n",
      "167/167 [==============================] - 0s 2ms/step - loss: 1582349549568.0000 - val_loss: 1670544228352.0000\n",
      "Epoch 94/100\n",
      "167/167 [==============================] - 0s 2ms/step - loss: 1574691274752.0000 - val_loss: 1666584412160.0000\n",
      "Epoch 95/100\n",
      "167/167 [==============================] - 0s 2ms/step - loss: 1567507873792.0000 - val_loss: 1659505999872.0000\n",
      "Epoch 96/100\n",
      "167/167 [==============================] - 0s 2ms/step - loss: 1561443172352.0000 - val_loss: 1657672826880.0000\n",
      "Epoch 97/100\n",
      "167/167 [==============================] - 0s 2ms/step - loss: 1555890438144.0000 - val_loss: 1645326237696.0000\n",
      "Epoch 98/100\n",
      "167/167 [==============================] - 0s 2ms/step - loss: 1547919032320.0000 - val_loss: 1644467060736.0000\n",
      "Epoch 99/100\n",
      "167/167 [==============================] - 0s 2ms/step - loss: 1545563537408.0000 - val_loss: 1633664237568.0000\n",
      "Epoch 100/100\n",
      "167/167 [==============================] - 0s 2ms/step - loss: 1537121058816.0000 - val_loss: 1626445447168.0000\n"
     ]
    }
   ],
   "source": [
    "model_3=regr_3.fit(X_train, y_train, validation_data=(X_test, y_test),epochs=100, batch_size=32)"
   ]
  },
  {
   "cell_type": "code",
   "execution_count": 64,
   "metadata": {},
   "outputs": [
    {
     "data": {
      "image/png": "[encoded data removed]",
      "text/plain": [
       "<Figure size 432x288 with 1 Axes>"
      ]
     },
     "metadata": {
      "needs_background": "light"
     },
     "output_type": "display_data"
    }
   ],
   "source": [
    "loss_plot(model_3)"
   ]
  },
  {
   "cell_type": "code",
   "execution_count": 65,
   "metadata": {},
   "outputs": [
    {
     "name": "stdout",
     "output_type": "stream",
     "text": [
      "MAE:  1007623.9693475815\n",
      "MSE:  1626445714618.4814\n",
      "RMSE:  1275321.8082580103\n",
      "RMSLE:  14.05870910336122\n",
      "R-Squared:  0.8828227925292788\n",
      "Adjusted R-Squared:  0.8816237079730121\n"
     ]
    }
   ],
   "source": [
    "metrics_3 = acc_metrics(y_test, regr_3.predict(X_test),X_test.shape[0],X_test.shape[1])\n",
    "print(\"MAE: \",metrics_3[0])\n",
    "print(\"MSE: \",metrics_3[1])\n",
    "print(\"RMSE: \",metrics_3[2])\n",
    "print(\"RMSLE: \",metrics_3[3])\n",
    "print(\"R-Squared: \",metrics_3[4])\n",
    "print(\"Adjusted R-Squared: \",metrics_3[5])"
   ]
  },
  {
   "cell_type": "code",
   "execution_count": 71,
   "metadata": {},
   "outputs": [
    {
     "name": "stdout",
     "output_type": "stream",
     "text": [
      "Model: \"sequential_8\"\n",
      "_________________________________________________________________\n",
      " Layer (type)                Output Shape              Param #   \n",
      "=================================================================\n",
      " dense_30 (Dense)            (None, 18)                342       \n",
      "                                                                 \n",
      " dense_31 (Dense)            (None, 36)                684       \n",
      "                                                                 \n",
      " dense_32 (Dense)            (None, 36)                1332      \n",
      "                                                                 \n",
      " dense_33 (Dense)            (None, 1)                 37        \n",
      "                                                                 \n",
      "=================================================================\n",
      "Total params: 2,395\n",
      "Trainable params: 2,395\n",
      "Non-trainable params: 0\n",
      "_________________________________________________________________\n"
     ]
    }
   ],
   "source": [
    "regr_4 = keras.Sequential()\n",
    "regr_4.add(layers.Dense(18, input_shape=(18,), activation='relu'))\n",
    "regr_4.add(layers.Dense(36, activation='relu'))\n",
    "regr_4.add(layers.Dense(36, activation='relu'))\n",
    "regr_4.add(layers.Dense(1))\n",
    "regr_4.compile(loss='mean_squared_error', optimizer='RMSprop')\n",
    "regr_4.summary()"
   ]
  },
  {
   "cell_type": "code",
   "execution_count": 72,
   "metadata": {},
   "outputs": [
    {
     "name": "stdout",
     "output_type": "stream",
     "text": [
      "Epoch 1/100\n",
      "167/167 [==============================] - 1s 4ms/step - loss: 133672837578752.0000 - val_loss: 130574027063296.0000\n",
      "Epoch 2/100\n",
      "167/167 [==============================] - 0s 3ms/step - loss: 133660271443968.0000 - val_loss: 130548534083584.0000\n",
      "Epoch 3/100\n",
      "167/167 [==============================] - 0s 3ms/step - loss: 133608706670592.0000 - val_loss: 130466426388480.0000\n",
      "Epoch 4/100\n",
      "167/167 [==============================] - 0s 3ms/step - loss: 133473155153920.0000 - val_loss: 130279192657920.0000\n",
      "Epoch 5/100\n",
      "167/167 [==============================] - 0s 3ms/step - loss: 133199317434368.0000 - val_loss: 129925830934528.0000\n",
      "Epoch 6/100\n",
      "167/167 [==============================] - 0s 3ms/step - loss: 132712107081728.0000 - val_loss: 129323109449728.0000\n",
      "Epoch 7/100\n",
      "167/167 [==============================] - 0s 3ms/step - loss: 131923863142400.0000 - val_loss: 128388828233728.0000\n",
      "Epoch 8/100\n",
      "167/167 [==============================] - 0s 3ms/step - loss: 130740347994112.0000 - val_loss: 127018540728320.0000\n",
      "Epoch 9/100\n",
      "167/167 [==============================] - 0s 3ms/step - loss: 129027486515200.0000 - val_loss: 125097935372288.0000\n",
      "Epoch 10/100\n",
      "167/167 [==============================] - 0s 3ms/step - loss: 126716223684608.0000 - val_loss: 122515552731136.0000\n",
      "Epoch 11/100\n",
      "167/167 [==============================] - 0s 3ms/step - loss: 123645364011008.0000 - val_loss: 119167910936576.0000\n",
      "Epoch 12/100\n",
      "167/167 [==============================] - 0s 3ms/step - loss: 119705478103040.0000 - val_loss: 114946310406144.0000\n",
      "Epoch 13/100\n",
      "167/167 [==============================] - 0s 3ms/step - loss: 114864177545216.0000 - val_loss: 109760724598784.0000\n",
      "Epoch 14/100\n",
      "167/167 [==============================] - 0s 3ms/step - loss: 108948094976000.0000 - val_loss: 103511647846400.0000\n",
      "Epoch 15/100\n",
      "167/167 [==============================] - 0s 3ms/step - loss: 101911193714688.0000 - val_loss: 96211679838208.0000\n",
      "Epoch 16/100\n",
      "167/167 [==============================] - 0s 3ms/step - loss: 93822663000064.0000 - val_loss: 87941930024960.0000\n",
      "Epoch 17/100\n",
      "167/167 [==============================] - 1s 3ms/step - loss: 84801377796096.0000 - val_loss: 78757947768832.0000\n",
      "Epoch 18/100\n",
      "167/167 [==============================] - 0s 3ms/step - loss: 75014380453888.0000 - val_loss: 68896874823680.0000\n",
      "Epoch 19/100\n",
      "167/167 [==============================] - 0s 3ms/step - loss: 64852471054336.0000 - val_loss: 58849620918272.0000\n",
      "Epoch 20/100\n",
      "167/167 [==============================] - 0s 3ms/step - loss: 54605559889920.0000 - val_loss: 49020084944896.0000\n",
      "Epoch 21/100\n",
      "167/167 [==============================] - 0s 3ms/step - loss: 45094501613568.0000 - val_loss: 40025597149184.0000\n",
      "Epoch 22/100\n",
      "167/167 [==============================] - 0s 3ms/step - loss: 36805726437376.0000 - val_loss: 32554893705216.0000\n",
      "Epoch 23/100\n",
      "167/167 [==============================] - 0s 3ms/step - loss: 30441190981632.0000 - val_loss: 27168434290688.0000\n",
      "Epoch 24/100\n",
      "167/167 [==============================] - 0s 3ms/step - loss: 26073318293504.0000 - val_loss: 23396897259520.0000\n",
      "Epoch 25/100\n",
      "167/167 [==============================] - 0s 3ms/step - loss: 22943176327168.0000 - val_loss: 20624086925312.0000\n",
      "Epoch 26/100\n",
      "167/167 [==============================] - 0s 3ms/step - loss: 20376662835200.0000 - val_loss: 18340424712192.0000\n",
      "Epoch 27/100\n",
      "167/167 [==============================] - 0s 3ms/step - loss: 18247833354240.0000 - val_loss: 16425992323072.0000\n",
      "Epoch 28/100\n",
      "167/167 [==============================] - 0s 3ms/step - loss: 16412490858496.0000 - val_loss: 14843520221184.0000\n",
      "Epoch 29/100\n",
      "167/167 [==============================] - 0s 3ms/step - loss: 14880507691008.0000 - val_loss: 13508864376832.0000\n",
      "Epoch 30/100\n",
      "167/167 [==============================] - 0s 3ms/step - loss: 13539319218176.0000 - val_loss: 12375231037440.0000\n",
      "Epoch 31/100\n",
      "167/167 [==============================] - 0s 3ms/step - loss: 12380258959360.0000 - val_loss: 11375289040896.0000\n",
      "Epoch 32/100\n",
      "167/167 [==============================] - 0s 3ms/step - loss: 11313985093632.0000 - val_loss: 10438296207360.0000\n",
      "Epoch 33/100\n",
      "167/167 [==============================] - 0s 3ms/step - loss: 10311084015616.0000 - val_loss: 9550675574784.0000\n",
      "Epoch 34/100\n",
      "167/167 [==============================] - 0s 3ms/step - loss: 9380047093760.0000 - val_loss: 8742547488768.0000\n",
      "Epoch 35/100\n",
      "167/167 [==============================] - 0s 3ms/step - loss: 8524205129728.0000 - val_loss: 7982812233728.0000\n",
      "Epoch 36/100\n",
      "167/167 [==============================] - 0s 3ms/step - loss: 7755442683904.0000 - val_loss: 7298721251328.0000\n",
      "Epoch 37/100\n",
      "167/167 [==============================] - 1s 3ms/step - loss: 7062340239360.0000 - val_loss: 6696768372736.0000\n",
      "Epoch 38/100\n",
      "167/167 [==============================] - 1s 3ms/step - loss: 6430280122368.0000 - val_loss: 6116724441088.0000\n",
      "Epoch 39/100\n",
      "167/167 [==============================] - 1s 3ms/step - loss: 5844415545344.0000 - val_loss: 5596556296192.0000\n",
      "Epoch 40/100\n",
      "167/167 [==============================] - 1s 3ms/step - loss: 5338771750912.0000 - val_loss: 5142712680448.0000\n",
      "Epoch 41/100\n",
      "167/167 [==============================] - 0s 3ms/step - loss: 4878454751232.0000 - val_loss: 4732424290304.0000\n",
      "Epoch 42/100\n",
      "167/167 [==============================] - 0s 3ms/step - loss: 4469375369216.0000 - val_loss: 4350344167424.0000\n",
      "Epoch 43/100\n",
      "167/167 [==============================] - 0s 3ms/step - loss: 4105251061760.0000 - val_loss: 4020024115200.0000\n",
      "Epoch 44/100\n",
      "167/167 [==============================] - 0s 3ms/step - loss: 3777590984704.0000 - val_loss: 3701627158528.0000\n",
      "Epoch 45/100\n",
      "167/167 [==============================] - 0s 2ms/step - loss: 3482755530752.0000 - val_loss: 3442625740800.0000\n",
      "Epoch 46/100\n",
      "167/167 [==============================] - 0s 3ms/step - loss: 3240053964800.0000 - val_loss: 3207501447168.0000\n",
      "Epoch 47/100\n",
      "167/167 [==============================] - 0s 3ms/step - loss: 3025603133440.0000 - val_loss: 3013013405696.0000\n",
      "Epoch 48/100\n",
      "167/167 [==============================] - 0s 2ms/step - loss: 2839752474624.0000 - val_loss: 2842526220288.0000\n",
      "Epoch 49/100\n",
      "167/167 [==============================] - 0s 3ms/step - loss: 2683294711808.0000 - val_loss: 2696716484608.0000\n",
      "Epoch 50/100\n",
      "167/167 [==============================] - 0s 3ms/step - loss: 2548459896832.0000 - val_loss: 2571242045440.0000\n",
      "Epoch 51/100\n",
      "167/167 [==============================] - 0s 2ms/step - loss: 2430860525568.0000 - val_loss: 2463337283584.0000\n",
      "Epoch 52/100\n",
      "167/167 [==============================] - 0s 3ms/step - loss: 2330274299904.0000 - val_loss: 2370527035392.0000\n",
      "Epoch 53/100\n",
      "167/167 [==============================] - 0s 3ms/step - loss: 2243989602304.0000 - val_loss: 2291690110976.0000\n",
      "Epoch 54/100\n",
      "167/167 [==============================] - 0s 2ms/step - loss: 2173048455168.0000 - val_loss: 2222812561408.0000\n",
      "Epoch 55/100\n",
      "167/167 [==============================] - 0s 2ms/step - loss: 2107538538496.0000 - val_loss: 2160889430016.0000\n",
      "Epoch 56/100\n",
      "167/167 [==============================] - 0s 2ms/step - loss: 2051716939776.0000 - val_loss: 2111286280192.0000\n",
      "Epoch 57/100\n",
      "167/167 [==============================] - 0s 2ms/step - loss: 2002599149568.0000 - val_loss: 2066670944256.0000\n",
      "Epoch 58/100\n",
      "167/167 [==============================] - 0s 2ms/step - loss: 1958626590720.0000 - val_loss: 2032304259072.0000\n",
      "Epoch 59/100\n",
      "167/167 [==============================] - 0s 2ms/step - loss: 1920696713216.0000 - val_loss: 1997725106176.0000\n",
      "Epoch 60/100\n",
      "167/167 [==============================] - 0s 2ms/step - loss: 1886706991104.0000 - val_loss: 1962435805184.0000\n",
      "Epoch 61/100\n",
      "167/167 [==============================] - 0s 2ms/step - loss: 1855266095104.0000 - val_loss: 1936972447744.0000\n",
      "Epoch 62/100\n",
      "167/167 [==============================] - 0s 2ms/step - loss: 1827003826176.0000 - val_loss: 1910279503872.0000\n",
      "Epoch 63/100\n",
      "167/167 [==============================] - 0s 3ms/step - loss: 1802288889856.0000 - val_loss: 1890521186304.0000\n",
      "Epoch 64/100\n",
      "167/167 [==============================] - 0s 2ms/step - loss: 1780216758272.0000 - val_loss: 1869688864768.0000\n",
      "Epoch 65/100\n",
      "167/167 [==============================] - 0s 2ms/step - loss: 1760068239360.0000 - val_loss: 1850105790464.0000\n",
      "Epoch 66/100\n",
      "167/167 [==============================] - 0s 2ms/step - loss: 1743415672832.0000 - val_loss: 1831546912768.0000\n",
      "Epoch 67/100\n",
      "167/167 [==============================] - 0s 2ms/step - loss: 1726122295296.0000 - val_loss: 1819289452544.0000\n",
      "Epoch 68/100\n",
      "167/167 [==============================] - 0s 3ms/step - loss: 1711348514816.0000 - val_loss: 1803212161024.0000\n",
      "Epoch 69/100\n",
      "167/167 [==============================] - 1s 3ms/step - loss: 1697933819904.0000 - val_loss: 1791090884608.0000\n",
      "Epoch 70/100\n",
      "167/167 [==============================] - 0s 3ms/step - loss: 1685524054016.0000 - val_loss: 1781591310336.0000\n",
      "Epoch 71/100\n",
      "167/167 [==============================] - 1s 3ms/step - loss: 1674384769024.0000 - val_loss: 1769721036800.0000\n",
      "Epoch 72/100\n",
      "167/167 [==============================] - 0s 3ms/step - loss: 1663256100864.0000 - val_loss: 1758938267648.0000\n",
      "Epoch 73/100\n",
      "167/167 [==============================] - 0s 3ms/step - loss: 1651485179904.0000 - val_loss: 1746890653696.0000\n",
      "Epoch 74/100\n",
      "167/167 [==============================] - 1s 3ms/step - loss: 1643179278336.0000 - val_loss: 1738543464448.0000\n",
      "Epoch 75/100\n",
      "167/167 [==============================] - 0s 2ms/step - loss: 1634672443392.0000 - val_loss: 1730184740864.0000\n",
      "Epoch 76/100\n",
      "167/167 [==============================] - 0s 3ms/step - loss: 1626723844096.0000 - val_loss: 1723942961152.0000\n",
      "Epoch 77/100\n",
      "167/167 [==============================] - 1s 3ms/step - loss: 1618838945792.0000 - val_loss: 1719233282048.0000\n",
      "Epoch 78/100\n",
      "167/167 [==============================] - 1s 3ms/step - loss: 1611086823424.0000 - val_loss: 1712640098304.0000\n",
      "Epoch 79/100\n",
      "167/167 [==============================] - 1s 3ms/step - loss: 1603736567808.0000 - val_loss: 1704937652224.0000\n",
      "Epoch 80/100\n",
      "167/167 [==============================] - 1s 3ms/step - loss: 1597180215296.0000 - val_loss: 1697086439424.0000\n",
      "Epoch 81/100\n",
      "167/167 [==============================] - 1s 3ms/step - loss: 1590900555776.0000 - val_loss: 1691412594688.0000\n",
      "Epoch 82/100\n",
      "167/167 [==============================] - 1s 3ms/step - loss: 1584174596096.0000 - val_loss: 1686615097344.0000\n",
      "Epoch 83/100\n",
      "167/167 [==============================] - 0s 3ms/step - loss: 1577359114240.0000 - val_loss: 1677918076928.0000\n",
      "Epoch 84/100\n",
      "167/167 [==============================] - 0s 3ms/step - loss: 1572379688960.0000 - val_loss: 1674107813888.0000\n",
      "Epoch 85/100\n",
      "167/167 [==============================] - 0s 3ms/step - loss: 1566174871552.0000 - val_loss: 1668495704064.0000\n",
      "Epoch 86/100\n",
      "167/167 [==============================] - 0s 2ms/step - loss: 1560782700544.0000 - val_loss: 1661691756544.0000\n",
      "Epoch 87/100\n",
      "167/167 [==============================] - 0s 2ms/step - loss: 1554657705984.0000 - val_loss: 1658815512576.0000\n",
      "Epoch 88/100\n",
      "167/167 [==============================] - 0s 2ms/step - loss: 1549015842816.0000 - val_loss: 1652304379904.0000\n",
      "Epoch 89/100\n",
      "167/167 [==============================] - 0s 2ms/step - loss: 1543696285696.0000 - val_loss: 1645907673088.0000\n",
      "Epoch 90/100\n",
      "167/167 [==============================] - 0s 2ms/step - loss: 1537978662912.0000 - val_loss: 1644732219392.0000\n",
      "Epoch 91/100\n",
      "167/167 [==============================] - 0s 2ms/step - loss: 1533711876096.0000 - val_loss: 1636931207168.0000\n",
      "Epoch 92/100\n",
      "167/167 [==============================] - 0s 2ms/step - loss: 1527848763392.0000 - val_loss: 1634132295680.0000\n",
      "Epoch 93/100\n",
      "167/167 [==============================] - 0s 3ms/step - loss: 1522802622464.0000 - val_loss: 1627310522368.0000\n",
      "Epoch 94/100\n",
      "167/167 [==============================] - 0s 2ms/step - loss: 1518283522048.0000 - val_loss: 1623274160128.0000\n",
      "Epoch 95/100\n",
      "167/167 [==============================] - 0s 2ms/step - loss: 1511809351680.0000 - val_loss: 1622098837504.0000\n",
      "Epoch 96/100\n",
      "167/167 [==============================] - 0s 2ms/step - loss: 1508714479616.0000 - val_loss: 1613655834624.0000\n",
      "Epoch 97/100\n",
      "167/167 [==============================] - 0s 2ms/step - loss: 1503077990400.0000 - val_loss: 1606923583488.0000\n",
      "Epoch 98/100\n",
      "167/167 [==============================] - 0s 2ms/step - loss: 1498886176768.0000 - val_loss: 1601569816576.0000\n",
      "Epoch 99/100\n",
      "167/167 [==============================] - 0s 2ms/step - loss: 1492430356480.0000 - val_loss: 1598509940736.0000\n",
      "Epoch 100/100\n",
      "167/167 [==============================] - 0s 2ms/step - loss: 1488300670976.0000 - val_loss: 1593082642432.0000\n"
     ]
    }
   ],
   "source": [
    "model_4=regr_4.fit(X_train, y_train, validation_data=(X_test, y_test),epochs=100, batch_size=32)"
   ]
  },
  {
   "cell_type": "code",
   "execution_count": 73,
   "metadata": {},
   "outputs": [
    {
     "data": {
      "image/png": "[encoded data removed]",
      "text/plain": [
       "<Figure size 432x288 with 1 Axes>"
      ]
     },
     "metadata": {
      "needs_background": "light"
     },
     "output_type": "display_data"
    }
   ],
   "source": [
    "loss_plot(model_4)"
   ]
  },
  {
   "cell_type": "code",
   "execution_count": 74,
   "metadata": {},
   "outputs": [
    {
     "name": "stdout",
     "output_type": "stream",
     "text": [
      "MAE:  988758.1413104612\n",
      "MSE:  1593082586622.6628\n",
      "RMSE:  1262173.754529329\n",
      "RMSLE:  14.048345994483455\n",
      "R-Squared:  0.8852264375669832\n",
      "Adjusted R-Squared:  0.8840519497194594\n"
     ]
    }
   ],
   "source": [
    "metrics_4 = acc_metrics(y_test, regr_4.predict(X_test),X_test.shape[0],X_test.shape[1])\n",
    "print(\"MAE: \",metrics_4[0])\n",
    "print(\"MSE: \",metrics_4[1])\n",
    "print(\"RMSE: \",metrics_4[2])\n",
    "print(\"RMSLE: \",metrics_4[3])\n",
    "print(\"R-Squared: \",metrics_4[4])\n",
    "print(\"Adjusted R-Squared: \",metrics_4[5])"
   ]
  }
 ],
 "metadata": {
  "kernelspec": {
   "display_name": "Python 3.9.5 64-bit",
   "language": "python",
   "name": "python3"
  },
  "language_info": {
   "codemirror_mode": {
    "name": "ipython",
    "version": 3
   },
   "file_extension": ".py",
   "mimetype": "text/x-python",
   "name": "python",
   "nbconvert_exporter": "python",
   "pygments_lexer": "ipython3",
   "version": "3.9.5"
  },
  "orig_nbformat": 4,
  "vscode": {
   "interpreter": {
    "hash": "d9101d7502e4a913d094da5adde85c8db97e25b2d173ab17e44ad0193ce37ace"
   }
  }
 },
 "nbformat": 4,
 "nbformat_minor": 2
}
